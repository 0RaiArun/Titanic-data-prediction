{
 "cells": [
  {
   "cell_type": "markdown",
   "id": "7ab6a758",
   "metadata": {
    "papermill": {
     "duration": 0.042238,
     "end_time": "2021-10-05T19:01:31.319992",
     "exception": false,
     "start_time": "2021-10-05T19:01:31.277754",
     "status": "completed"
    },
    "tags": []
   },
   "source": [
    "The libraries \n"
   ]
  },
  {
   "cell_type": "code",
   "execution_count": 1,
   "id": "fd0bbfed",
   "metadata": {
    "execution": {
     "iopub.execute_input": "2021-10-05T19:01:31.402491Z",
     "iopub.status.busy": "2021-10-05T19:01:31.401477Z",
     "iopub.status.idle": "2021-10-05T19:01:32.160173Z",
     "shell.execute_reply": "2021-10-05T19:01:32.159464Z",
     "shell.execute_reply.started": "2021-10-05T18:41:50.81892Z"
    },
    "papermill": {
     "duration": 0.800213,
     "end_time": "2021-10-05T19:01:32.160370",
     "exception": false,
     "start_time": "2021-10-05T19:01:31.360157",
     "status": "completed"
    },
    "tags": []
   },
   "outputs": [],
   "source": [
    "import pandas as pd\n",
    "import matplotlib.pyplot as plt \n",
    "import numpy as np \n",
    "import seaborn as sns"
   ]
  },
  {
   "cell_type": "markdown",
   "id": "84dd0ee5",
   "metadata": {
    "papermill": {
     "duration": 0.051854,
     "end_time": "2021-10-05T19:01:32.264641",
     "exception": false,
     "start_time": "2021-10-05T19:01:32.212787",
     "status": "completed"
    },
    "tags": []
   },
   "source": [
    "Importing the data\n"
   ]
  },
  {
   "cell_type": "code",
   "execution_count": 2,
   "id": "5a31ba5c",
   "metadata": {
    "execution": {
     "iopub.execute_input": "2021-10-05T19:01:32.353244Z",
     "iopub.status.busy": "2021-10-05T19:01:32.352140Z",
     "iopub.status.idle": "2021-10-05T19:01:32.392702Z",
     "shell.execute_reply": "2021-10-05T19:01:32.393233Z",
     "shell.execute_reply.started": "2021-10-05T18:41:51.948574Z"
    },
    "papermill": {
     "duration": 0.089651,
     "end_time": "2021-10-05T19:01:32.393428",
     "exception": false,
     "start_time": "2021-10-05T19:01:32.303777",
     "status": "completed"
    },
    "tags": []
   },
   "outputs": [
    {
     "data": {
      "text/html": [
       "<div>\n",
       "<style scoped>\n",
       "    .dataframe tbody tr th:only-of-type {\n",
       "        vertical-align: middle;\n",
       "    }\n",
       "\n",
       "    .dataframe tbody tr th {\n",
       "        vertical-align: top;\n",
       "    }\n",
       "\n",
       "    .dataframe thead th {\n",
       "        text-align: right;\n",
       "    }\n",
       "</style>\n",
       "<table border=\"1\" class=\"dataframe\">\n",
       "  <thead>\n",
       "    <tr style=\"text-align: right;\">\n",
       "      <th></th>\n",
       "      <th>PassengerId</th>\n",
       "      <th>Survived</th>\n",
       "      <th>Pclass</th>\n",
       "      <th>Name</th>\n",
       "      <th>Sex</th>\n",
       "      <th>Age</th>\n",
       "      <th>SibSp</th>\n",
       "      <th>Parch</th>\n",
       "      <th>Ticket</th>\n",
       "      <th>Fare</th>\n",
       "      <th>Cabin</th>\n",
       "      <th>Embarked</th>\n",
       "    </tr>\n",
       "  </thead>\n",
       "  <tbody>\n",
       "    <tr>\n",
       "      <th>0</th>\n",
       "      <td>1</td>\n",
       "      <td>0</td>\n",
       "      <td>3</td>\n",
       "      <td>Braund, Mr. Owen Harris</td>\n",
       "      <td>male</td>\n",
       "      <td>22.0</td>\n",
       "      <td>1</td>\n",
       "      <td>0</td>\n",
       "      <td>A/5 21171</td>\n",
       "      <td>7.2500</td>\n",
       "      <td>NaN</td>\n",
       "      <td>S</td>\n",
       "    </tr>\n",
       "    <tr>\n",
       "      <th>1</th>\n",
       "      <td>2</td>\n",
       "      <td>1</td>\n",
       "      <td>1</td>\n",
       "      <td>Cumings, Mrs. John Bradley (Florence Briggs Th...</td>\n",
       "      <td>female</td>\n",
       "      <td>38.0</td>\n",
       "      <td>1</td>\n",
       "      <td>0</td>\n",
       "      <td>PC 17599</td>\n",
       "      <td>71.2833</td>\n",
       "      <td>C85</td>\n",
       "      <td>C</td>\n",
       "    </tr>\n",
       "    <tr>\n",
       "      <th>2</th>\n",
       "      <td>3</td>\n",
       "      <td>1</td>\n",
       "      <td>3</td>\n",
       "      <td>Heikkinen, Miss. Laina</td>\n",
       "      <td>female</td>\n",
       "      <td>26.0</td>\n",
       "      <td>0</td>\n",
       "      <td>0</td>\n",
       "      <td>STON/O2. 3101282</td>\n",
       "      <td>7.9250</td>\n",
       "      <td>NaN</td>\n",
       "      <td>S</td>\n",
       "    </tr>\n",
       "    <tr>\n",
       "      <th>3</th>\n",
       "      <td>4</td>\n",
       "      <td>1</td>\n",
       "      <td>1</td>\n",
       "      <td>Futrelle, Mrs. Jacques Heath (Lily May Peel)</td>\n",
       "      <td>female</td>\n",
       "      <td>35.0</td>\n",
       "      <td>1</td>\n",
       "      <td>0</td>\n",
       "      <td>113803</td>\n",
       "      <td>53.1000</td>\n",
       "      <td>C123</td>\n",
       "      <td>S</td>\n",
       "    </tr>\n",
       "    <tr>\n",
       "      <th>4</th>\n",
       "      <td>5</td>\n",
       "      <td>0</td>\n",
       "      <td>3</td>\n",
       "      <td>Allen, Mr. William Henry</td>\n",
       "      <td>male</td>\n",
       "      <td>35.0</td>\n",
       "      <td>0</td>\n",
       "      <td>0</td>\n",
       "      <td>373450</td>\n",
       "      <td>8.0500</td>\n",
       "      <td>NaN</td>\n",
       "      <td>S</td>\n",
       "    </tr>\n",
       "  </tbody>\n",
       "</table>\n",
       "</div>"
      ],
      "text/plain": [
       "   PassengerId  Survived  Pclass  \\\n",
       "0            1         0       3   \n",
       "1            2         1       1   \n",
       "2            3         1       3   \n",
       "3            4         1       1   \n",
       "4            5         0       3   \n",
       "\n",
       "                                                Name     Sex   Age  SibSp  \\\n",
       "0                            Braund, Mr. Owen Harris    male  22.0      1   \n",
       "1  Cumings, Mrs. John Bradley (Florence Briggs Th...  female  38.0      1   \n",
       "2                             Heikkinen, Miss. Laina  female  26.0      0   \n",
       "3       Futrelle, Mrs. Jacques Heath (Lily May Peel)  female  35.0      1   \n",
       "4                           Allen, Mr. William Henry    male  35.0      0   \n",
       "\n",
       "   Parch            Ticket     Fare Cabin Embarked  \n",
       "0      0         A/5 21171   7.2500   NaN        S  \n",
       "1      0          PC 17599  71.2833   C85        C  \n",
       "2      0  STON/O2. 3101282   7.9250   NaN        S  \n",
       "3      0            113803  53.1000  C123        S  \n",
       "4      0            373450   8.0500   NaN        S  "
      ]
     },
     "execution_count": 2,
     "metadata": {},
     "output_type": "execute_result"
    }
   ],
   "source": [
    "df=pd.read_csv('train.csv')\n",
    "df.head()"
   ]
  },
  {
   "cell_type": "code",
   "execution_count": 3,
   "id": "c3c3ca51",
   "metadata": {
    "execution": {
     "iopub.execute_input": "2021-10-05T19:01:32.478304Z",
     "iopub.status.busy": "2021-10-05T19:01:32.477627Z",
     "iopub.status.idle": "2021-10-05T19:01:32.482128Z",
     "shell.execute_reply": "2021-10-05T19:01:32.482554Z",
     "shell.execute_reply.started": "2021-10-05T18:41:51.989762Z"
    },
    "papermill": {
     "duration": 0.046273,
     "end_time": "2021-10-05T19:01:32.482709",
     "exception": false,
     "start_time": "2021-10-05T19:01:32.436436",
     "status": "completed"
    },
    "tags": []
   },
   "outputs": [
    {
     "data": {
      "text/plain": [
       "(891, 12)"
      ]
     },
     "execution_count": 3,
     "metadata": {},
     "output_type": "execute_result"
    }
   ],
   "source": [
    "df.shape"
   ]
  },
  {
   "cell_type": "code",
   "execution_count": 4,
   "id": "e9e0da5a",
   "metadata": {
    "execution": {
     "iopub.execute_input": "2021-10-05T19:01:32.578419Z",
     "iopub.status.busy": "2021-10-05T19:01:32.577104Z",
     "iopub.status.idle": "2021-10-05T19:01:32.598683Z",
     "shell.execute_reply": "2021-10-05T19:01:32.599258Z",
     "shell.execute_reply.started": "2021-10-05T18:41:51.996286Z"
    },
    "papermill": {
     "duration": 0.070478,
     "end_time": "2021-10-05T19:01:32.599497",
     "exception": false,
     "start_time": "2021-10-05T19:01:32.529019",
     "status": "completed"
    },
    "tags": []
   },
   "outputs": [
    {
     "data": {
      "text/html": [
       "<div>\n",
       "<style scoped>\n",
       "    .dataframe tbody tr th:only-of-type {\n",
       "        vertical-align: middle;\n",
       "    }\n",
       "\n",
       "    .dataframe tbody tr th {\n",
       "        vertical-align: top;\n",
       "    }\n",
       "\n",
       "    .dataframe thead th {\n",
       "        text-align: right;\n",
       "    }\n",
       "</style>\n",
       "<table border=\"1\" class=\"dataframe\">\n",
       "  <thead>\n",
       "    <tr style=\"text-align: right;\">\n",
       "      <th></th>\n",
       "      <th>PassengerId</th>\n",
       "      <th>Pclass</th>\n",
       "      <th>Name</th>\n",
       "      <th>Sex</th>\n",
       "      <th>Age</th>\n",
       "      <th>SibSp</th>\n",
       "      <th>Parch</th>\n",
       "      <th>Ticket</th>\n",
       "      <th>Fare</th>\n",
       "      <th>Cabin</th>\n",
       "      <th>Embarked</th>\n",
       "    </tr>\n",
       "  </thead>\n",
       "  <tbody>\n",
       "    <tr>\n",
       "      <th>0</th>\n",
       "      <td>892</td>\n",
       "      <td>3</td>\n",
       "      <td>Kelly, Mr. James</td>\n",
       "      <td>male</td>\n",
       "      <td>34.5</td>\n",
       "      <td>0</td>\n",
       "      <td>0</td>\n",
       "      <td>330911</td>\n",
       "      <td>7.8292</td>\n",
       "      <td>NaN</td>\n",
       "      <td>Q</td>\n",
       "    </tr>\n",
       "    <tr>\n",
       "      <th>1</th>\n",
       "      <td>893</td>\n",
       "      <td>3</td>\n",
       "      <td>Wilkes, Mrs. James (Ellen Needs)</td>\n",
       "      <td>female</td>\n",
       "      <td>47.0</td>\n",
       "      <td>1</td>\n",
       "      <td>0</td>\n",
       "      <td>363272</td>\n",
       "      <td>7.0000</td>\n",
       "      <td>NaN</td>\n",
       "      <td>S</td>\n",
       "    </tr>\n",
       "    <tr>\n",
       "      <th>2</th>\n",
       "      <td>894</td>\n",
       "      <td>2</td>\n",
       "      <td>Myles, Mr. Thomas Francis</td>\n",
       "      <td>male</td>\n",
       "      <td>62.0</td>\n",
       "      <td>0</td>\n",
       "      <td>0</td>\n",
       "      <td>240276</td>\n",
       "      <td>9.6875</td>\n",
       "      <td>NaN</td>\n",
       "      <td>Q</td>\n",
       "    </tr>\n",
       "    <tr>\n",
       "      <th>3</th>\n",
       "      <td>895</td>\n",
       "      <td>3</td>\n",
       "      <td>Wirz, Mr. Albert</td>\n",
       "      <td>male</td>\n",
       "      <td>27.0</td>\n",
       "      <td>0</td>\n",
       "      <td>0</td>\n",
       "      <td>315154</td>\n",
       "      <td>8.6625</td>\n",
       "      <td>NaN</td>\n",
       "      <td>S</td>\n",
       "    </tr>\n",
       "    <tr>\n",
       "      <th>4</th>\n",
       "      <td>896</td>\n",
       "      <td>3</td>\n",
       "      <td>Hirvonen, Mrs. Alexander (Helga E Lindqvist)</td>\n",
       "      <td>female</td>\n",
       "      <td>22.0</td>\n",
       "      <td>1</td>\n",
       "      <td>1</td>\n",
       "      <td>3101298</td>\n",
       "      <td>12.2875</td>\n",
       "      <td>NaN</td>\n",
       "      <td>S</td>\n",
       "    </tr>\n",
       "  </tbody>\n",
       "</table>\n",
       "</div>"
      ],
      "text/plain": [
       "   PassengerId  Pclass                                          Name     Sex  \\\n",
       "0          892       3                              Kelly, Mr. James    male   \n",
       "1          893       3              Wilkes, Mrs. James (Ellen Needs)  female   \n",
       "2          894       2                     Myles, Mr. Thomas Francis    male   \n",
       "3          895       3                              Wirz, Mr. Albert    male   \n",
       "4          896       3  Hirvonen, Mrs. Alexander (Helga E Lindqvist)  female   \n",
       "\n",
       "    Age  SibSp  Parch   Ticket     Fare Cabin Embarked  \n",
       "0  34.5      0      0   330911   7.8292   NaN        Q  \n",
       "1  47.0      1      0   363272   7.0000   NaN        S  \n",
       "2  62.0      0      0   240276   9.6875   NaN        Q  \n",
       "3  27.0      0      0   315154   8.6625   NaN        S  \n",
       "4  22.0      1      1  3101298  12.2875   NaN        S  "
      ]
     },
     "execution_count": 4,
     "metadata": {},
     "output_type": "execute_result"
    }
   ],
   "source": [
    "final_test=pd.read_csv('test.csv')\n",
    "final_test.head()"
   ]
  },
  {
   "cell_type": "code",
   "execution_count": 5,
   "id": "3e6dad4a",
   "metadata": {
    "execution": {
     "iopub.execute_input": "2021-10-05T19:01:32.686563Z",
     "iopub.status.busy": "2021-10-05T19:01:32.685949Z",
     "iopub.status.idle": "2021-10-05T19:01:32.690923Z",
     "shell.execute_reply": "2021-10-05T19:01:32.690327Z",
     "shell.execute_reply.started": "2021-10-05T18:41:52.030217Z"
    },
    "papermill": {
     "duration": 0.047289,
     "end_time": "2021-10-05T19:01:32.691070",
     "exception": false,
     "start_time": "2021-10-05T19:01:32.643781",
     "status": "completed"
    },
    "tags": []
   },
   "outputs": [
    {
     "data": {
      "text/plain": [
       "(418, 11)"
      ]
     },
     "execution_count": 5,
     "metadata": {},
     "output_type": "execute_result"
    }
   ],
   "source": [
    "final_test.shape"
   ]
  },
  {
   "cell_type": "markdown",
   "id": "3460c698",
   "metadata": {
    "papermill": {
     "duration": 0.039258,
     "end_time": "2021-10-05T19:01:32.769768",
     "exception": false,
     "start_time": "2021-10-05T19:01:32.730510",
     "status": "completed"
    },
    "tags": []
   },
   "source": [
    "Data preprocessing \n"
   ]
  },
  {
   "cell_type": "code",
   "execution_count": 6,
   "id": "2f3392e1",
   "metadata": {
    "execution": {
     "iopub.execute_input": "2021-10-05T19:01:32.852556Z",
     "iopub.status.busy": "2021-10-05T19:01:32.851641Z",
     "iopub.status.idle": "2021-10-05T19:01:32.859513Z",
     "shell.execute_reply": "2021-10-05T19:01:32.860007Z",
     "shell.execute_reply.started": "2021-10-05T18:41:52.037141Z"
    },
    "papermill": {
     "duration": 0.050831,
     "end_time": "2021-10-05T19:01:32.860168",
     "exception": false,
     "start_time": "2021-10-05T19:01:32.809337",
     "status": "completed"
    },
    "tags": []
   },
   "outputs": [
    {
     "data": {
      "text/plain": [
       "PassengerId    False\n",
       "Survived       False\n",
       "Pclass         False\n",
       "Name           False\n",
       "Sex            False\n",
       "Age             True\n",
       "SibSp          False\n",
       "Parch          False\n",
       "Ticket         False\n",
       "Fare           False\n",
       "Cabin           True\n",
       "Embarked        True\n",
       "dtype: bool"
      ]
     },
     "execution_count": 6,
     "metadata": {},
     "output_type": "execute_result"
    }
   ],
   "source": [
    "#let's check the nulls \n",
    "df.isnull().any()"
   ]
  },
  {
   "cell_type": "code",
   "execution_count": 7,
   "id": "e54ac9a1",
   "metadata": {
    "execution": {
     "iopub.execute_input": "2021-10-05T19:01:32.943175Z",
     "iopub.status.busy": "2021-10-05T19:01:32.942211Z",
     "iopub.status.idle": "2021-10-05T19:01:32.963164Z",
     "shell.execute_reply": "2021-10-05T19:01:32.963607Z",
     "shell.execute_reply.started": "2021-10-05T18:41:52.060601Z"
    },
    "papermill": {
     "duration": 0.064227,
     "end_time": "2021-10-05T19:01:32.963779",
     "exception": false,
     "start_time": "2021-10-05T19:01:32.899552",
     "status": "completed"
    },
    "tags": []
   },
   "outputs": [
    {
     "name": "stdout",
     "output_type": "stream",
     "text": [
      "<class 'pandas.core.frame.DataFrame'>\n",
      "RangeIndex: 891 entries, 0 to 890\n",
      "Data columns (total 12 columns):\n",
      " #   Column       Non-Null Count  Dtype  \n",
      "---  ------       --------------  -----  \n",
      " 0   PassengerId  891 non-null    int64  \n",
      " 1   Survived     891 non-null    int64  \n",
      " 2   Pclass       891 non-null    int64  \n",
      " 3   Name         891 non-null    object \n",
      " 4   Sex          891 non-null    object \n",
      " 5   Age          714 non-null    float64\n",
      " 6   SibSp        891 non-null    int64  \n",
      " 7   Parch        891 non-null    int64  \n",
      " 8   Ticket       891 non-null    object \n",
      " 9   Fare         891 non-null    float64\n",
      " 10  Cabin        204 non-null    object \n",
      " 11  Embarked     889 non-null    object \n",
      "dtypes: float64(2), int64(5), object(5)\n",
      "memory usage: 83.7+ KB\n"
     ]
    }
   ],
   "source": [
    "#age,cabin ,and Embarked contain nulls \n",
    "df.info()"
   ]
  },
  {
   "cell_type": "code",
   "execution_count": 8,
   "id": "c326e859",
   "metadata": {
    "execution": {
     "iopub.execute_input": "2021-10-05T19:01:33.051243Z",
     "iopub.status.busy": "2021-10-05T19:01:33.050594Z",
     "iopub.status.idle": "2021-10-05T19:01:33.360783Z",
     "shell.execute_reply": "2021-10-05T19:01:33.360268Z",
     "shell.execute_reply.started": "2021-10-05T18:41:52.096649Z"
    },
    "papermill": {
     "duration": 0.356989,
     "end_time": "2021-10-05T19:01:33.360951",
     "exception": false,
     "start_time": "2021-10-05T19:01:33.003962",
     "status": "completed"
    },
    "tags": []
   },
   "outputs": [
    {
     "data": {
      "text/plain": [
       "<AxesSubplot:>"
      ]
     },
     "execution_count": 8,
     "metadata": {},
     "output_type": "execute_result"
    },
    {
     "data": {
      "image/png": "[encoded data removed]",
      "text/plain": [
       "<Figure size 432x288 with 1 Axes>"
      ]
     },
     "metadata": {
      "needs_background": "light"
     },
     "output_type": "display_data"
    }
   ],
   "source": [
    "df.isnull().sum().to_frame().plot(kind='bar')"
   ]
  },
  {
   "cell_type": "code",
   "execution_count": 13,
   "id": "6ddede52",
   "metadata": {},
   "outputs": [],
   "source": [
    "null_value = df.isnull().sum().to_frame()"
   ]
  },
  {
   "cell_type": "code",
   "execution_count": 16,
   "id": "6deadbcd",
   "metadata": {},
   "outputs": [
    {
     "data": {
      "text/html": [
       "<div>\n",
       "<style scoped>\n",
       "    .dataframe tbody tr th:only-of-type {\n",
       "        vertical-align: middle;\n",
       "    }\n",
       "\n",
       "    .dataframe tbody tr th {\n",
       "        vertical-align: top;\n",
       "    }\n",
       "\n",
       "    .dataframe thead th {\n",
       "        text-align: right;\n",
       "    }\n",
       "</style>\n",
       "<table border=\"1\" class=\"dataframe\">\n",
       "  <thead>\n",
       "    <tr style=\"text-align: right;\">\n",
       "      <th></th>\n",
       "      <th>0</th>\n",
       "    </tr>\n",
       "  </thead>\n",
       "  <tbody>\n",
       "    <tr>\n",
       "      <th>PassengerId</th>\n",
       "      <td>0</td>\n",
       "    </tr>\n",
       "    <tr>\n",
       "      <th>Survived</th>\n",
       "      <td>0</td>\n",
       "    </tr>\n",
       "    <tr>\n",
       "      <th>Pclass</th>\n",
       "      <td>0</td>\n",
       "    </tr>\n",
       "    <tr>\n",
       "      <th>Name</th>\n",
       "      <td>0</td>\n",
       "    </tr>\n",
       "    <tr>\n",
       "      <th>Sex</th>\n",
       "      <td>0</td>\n",
       "    </tr>\n",
       "    <tr>\n",
       "      <th>Age</th>\n",
       "      <td>177</td>\n",
       "    </tr>\n",
       "    <tr>\n",
       "      <th>SibSp</th>\n",
       "      <td>0</td>\n",
       "    </tr>\n",
       "    <tr>\n",
       "      <th>Parch</th>\n",
       "      <td>0</td>\n",
       "    </tr>\n",
       "    <tr>\n",
       "      <th>Ticket</th>\n",
       "      <td>0</td>\n",
       "    </tr>\n",
       "    <tr>\n",
       "      <th>Fare</th>\n",
       "      <td>0</td>\n",
       "    </tr>\n",
       "    <tr>\n",
       "      <th>Cabin</th>\n",
       "      <td>687</td>\n",
       "    </tr>\n",
       "    <tr>\n",
       "      <th>Embarked</th>\n",
       "      <td>2</td>\n",
       "    </tr>\n",
       "  </tbody>\n",
       "</table>\n",
       "</div>"
      ],
      "text/plain": [
       "               0\n",
       "PassengerId    0\n",
       "Survived       0\n",
       "Pclass         0\n",
       "Name           0\n",
       "Sex            0\n",
       "Age          177\n",
       "SibSp          0\n",
       "Parch          0\n",
       "Ticket         0\n",
       "Fare           0\n",
       "Cabin        687\n",
       "Embarked       2"
      ]
     },
     "execution_count": 16,
     "metadata": {},
     "output_type": "execute_result"
    }
   ],
   "source": [
    "null_value"
   ]
  },
  {
   "cell_type": "code",
   "execution_count": 28,
   "id": "63d66f6c",
   "metadata": {},
   "outputs": [
    {
     "data": {
      "text/plain": [
       "<AxesSubplot:>"
      ]
     },
     "execution_count": 28,
     "metadata": {},
     "output_type": "execute_result"
    },
    {
     "data": {
      "image/png": "[encoded data removed]",
      "text/plain": [
       "<Figure size 432x288 with 1 Axes>"
      ]
     },
     "metadata": {
      "needs_background": "light"
     },
     "output_type": "display_data"
    }
   ],
   "source": [
    "sns.lineplot(data = null_value)"
   ]
  },
  {
   "cell_type": "code",
   "execution_count": 19,
   "id": "77c5cb80",
   "metadata": {
    "execution": {
     "iopub.execute_input": "2021-10-05T19:01:33.448169Z",
     "iopub.status.busy": "2021-10-05T19:01:33.447505Z",
     "iopub.status.idle": "2021-10-05T19:01:33.451523Z",
     "shell.execute_reply": "2021-10-05T19:01:33.452012Z",
     "shell.execute_reply.started": "2021-10-05T18:41:52.439181Z"
    },
    "papermill": {
     "duration": 0.048688,
     "end_time": "2021-10-05T19:01:33.452194",
     "exception": false,
     "start_time": "2021-10-05T19:01:33.403506",
     "status": "completed"
    },
    "tags": []
   },
   "outputs": [],
   "source": [
    "df.Age=df.Age.fillna(df.Age.mean())"
   ]
  },
  {
   "cell_type": "code",
   "execution_count": 20,
   "id": "3e0386b7",
   "metadata": {
    "execution": {
     "iopub.execute_input": "2021-10-05T19:01:33.537726Z",
     "iopub.status.busy": "2021-10-05T19:01:33.537163Z",
     "iopub.status.idle": "2021-10-05T19:01:33.545148Z",
     "shell.execute_reply": "2021-10-05T19:01:33.544596Z",
     "shell.execute_reply.started": "2021-10-05T18:41:52.450676Z"
    },
    "papermill": {
     "duration": 0.052105,
     "end_time": "2021-10-05T19:01:33.545304",
     "exception": false,
     "start_time": "2021-10-05T19:01:33.493199",
     "status": "completed"
    },
    "tags": []
   },
   "outputs": [
    {
     "data": {
      "text/plain": [
       "PassengerId    False\n",
       "Survived       False\n",
       "Pclass         False\n",
       "Name           False\n",
       "Sex            False\n",
       "Age            False\n",
       "SibSp          False\n",
       "Parch          False\n",
       "Ticket         False\n",
       "Fare           False\n",
       "Cabin           True\n",
       "Embarked        True\n",
       "dtype: bool"
      ]
     },
     "execution_count": 20,
     "metadata": {},
     "output_type": "execute_result"
    }
   ],
   "source": [
    "df.isnull().any()"
   ]
  },
  {
   "cell_type": "code",
   "execution_count": 21,
   "id": "a9d3226d",
   "metadata": {
    "execution": {
     "iopub.execute_input": "2021-10-05T19:01:33.634191Z",
     "iopub.status.busy": "2021-10-05T19:01:33.631175Z",
     "iopub.status.idle": "2021-10-05T19:01:33.636741Z",
     "shell.execute_reply": "2021-10-05T19:01:33.637216Z",
     "shell.execute_reply.started": "2021-10-05T18:41:52.471277Z"
    },
    "papermill": {
     "duration": 0.050895,
     "end_time": "2021-10-05T19:01:33.637383",
     "exception": false,
     "start_time": "2021-10-05T19:01:33.586488",
     "status": "completed"
    },
    "tags": []
   },
   "outputs": [
    {
     "data": {
      "text/plain": [
       "2"
      ]
     },
     "execution_count": 21,
     "metadata": {},
     "output_type": "execute_result"
    }
   ],
   "source": [
    "df.Embarked.isnull().sum()"
   ]
  },
  {
   "cell_type": "code",
   "execution_count": 22,
   "id": "9bb6f2a5",
   "metadata": {
    "execution": {
     "iopub.execute_input": "2021-10-05T19:01:33.724390Z",
     "iopub.status.busy": "2021-10-05T19:01:33.723770Z",
     "iopub.status.idle": "2021-10-05T19:01:33.731347Z",
     "shell.execute_reply": "2021-10-05T19:01:33.731815Z",
     "shell.execute_reply.started": "2021-10-05T18:41:52.489449Z"
    },
    "papermill": {
     "duration": 0.052774,
     "end_time": "2021-10-05T19:01:33.731979",
     "exception": false,
     "start_time": "2021-10-05T19:01:33.679205",
     "status": "completed"
    },
    "tags": []
   },
   "outputs": [],
   "source": [
    "df.Embarked=df.Embarked.fillna(method='ffill')"
   ]
  },
  {
   "cell_type": "code",
   "execution_count": 23,
   "id": "aafbdaaa",
   "metadata": {
    "execution": {
     "iopub.execute_input": "2021-10-05T19:01:33.818291Z",
     "iopub.status.busy": "2021-10-05T19:01:33.817671Z",
     "iopub.status.idle": "2021-10-05T19:01:33.822404Z",
     "shell.execute_reply": "2021-10-05T19:01:33.822863Z",
     "shell.execute_reply.started": "2021-10-05T18:41:52.511209Z"
    },
    "papermill": {
     "duration": 0.049899,
     "end_time": "2021-10-05T19:01:33.823030",
     "exception": false,
     "start_time": "2021-10-05T19:01:33.773131",
     "status": "completed"
    },
    "tags": []
   },
   "outputs": [
    {
     "data": {
      "text/plain": [
       "0"
      ]
     },
     "execution_count": 23,
     "metadata": {},
     "output_type": "execute_result"
    }
   ],
   "source": [
    "df.Embarked.isnull().sum()"
   ]
  },
  {
   "cell_type": "code",
   "execution_count": 24,
   "id": "1a3aa2a0",
   "metadata": {
    "execution": {
     "iopub.execute_input": "2021-10-05T19:01:33.910459Z",
     "iopub.status.busy": "2021-10-05T19:01:33.909874Z",
     "iopub.status.idle": "2021-10-05T19:01:33.915463Z",
     "shell.execute_reply": "2021-10-05T19:01:33.915959Z",
     "shell.execute_reply.started": "2021-10-05T18:41:52.531617Z"
    },
    "papermill": {
     "duration": 0.050722,
     "end_time": "2021-10-05T19:01:33.916125",
     "exception": false,
     "start_time": "2021-10-05T19:01:33.865403",
     "status": "completed"
    },
    "tags": []
   },
   "outputs": [
    {
     "data": {
      "text/plain": [
       "0.7710437710437711"
      ]
     },
     "execution_count": 24,
     "metadata": {},
     "output_type": "execute_result"
    }
   ],
   "source": [
    "df.Cabin.isnull().sum()/df.shape[0]    #70% record in Cabin column is null , so I will drop that column :("
   ]
  },
  {
   "cell_type": "code",
   "execution_count": 25,
   "id": "7e214c5b",
   "metadata": {
    "execution": {
     "iopub.execute_input": "2021-10-05T19:01:34.004642Z",
     "iopub.status.busy": "2021-10-05T19:01:34.004037Z",
     "iopub.status.idle": "2021-10-05T19:01:34.008254Z",
     "shell.execute_reply": "2021-10-05T19:01:34.008705Z",
     "shell.execute_reply.started": "2021-10-05T18:41:52.548444Z"
    },
    "papermill": {
     "duration": 0.050333,
     "end_time": "2021-10-05T19:01:34.008911",
     "exception": false,
     "start_time": "2021-10-05T19:01:33.958578",
     "status": "completed"
    },
    "tags": []
   },
   "outputs": [
    {
     "data": {
      "text/plain": [
       "Index(['PassengerId', 'Survived', 'Pclass', 'Name', 'Sex', 'Age', 'SibSp',\n",
       "       'Parch', 'Ticket', 'Fare', 'Cabin', 'Embarked'],\n",
       "      dtype='object')"
      ]
     },
     "execution_count": 25,
     "metadata": {},
     "output_type": "execute_result"
    }
   ],
   "source": [
    "df.columns"
   ]
  },
  {
   "cell_type": "code",
   "execution_count": 26,
   "id": "b3835ccf",
   "metadata": {
    "execution": {
     "iopub.execute_input": "2021-10-05T19:01:34.095972Z",
     "iopub.status.busy": "2021-10-05T19:01:34.095335Z",
     "iopub.status.idle": "2021-10-05T19:01:34.101958Z",
     "shell.execute_reply": "2021-10-05T19:01:34.101407Z",
     "shell.execute_reply.started": "2021-10-05T18:41:52.568469Z"
    },
    "papermill": {
     "duration": 0.051333,
     "end_time": "2021-10-05T19:01:34.102096",
     "exception": false,
     "start_time": "2021-10-05T19:01:34.050763",
     "status": "completed"
    },
    "tags": []
   },
   "outputs": [],
   "source": [
    "df=df.drop(['PassengerId','Name','Cabin'],axis=1)"
   ]
  },
  {
   "cell_type": "code",
   "execution_count": 27,
   "id": "deffd4c4",
   "metadata": {
    "execution": {
     "iopub.execute_input": "2021-10-05T19:01:34.204677Z",
     "iopub.status.busy": "2021-10-05T19:01:34.203724Z",
     "iopub.status.idle": "2021-10-05T19:01:34.208727Z",
     "shell.execute_reply": "2021-10-05T19:01:34.209216Z",
     "shell.execute_reply.started": "2021-10-05T18:41:52.589073Z"
    },
    "papermill": {
     "duration": 0.0647,
     "end_time": "2021-10-05T19:01:34.209391",
     "exception": false,
     "start_time": "2021-10-05T19:01:34.144691",
     "status": "completed"
    },
    "tags": []
   },
   "outputs": [
    {
     "data": {
      "text/html": [
       "<div>\n",
       "<style scoped>\n",
       "    .dataframe tbody tr th:only-of-type {\n",
       "        vertical-align: middle;\n",
       "    }\n",
       "\n",
       "    .dataframe tbody tr th {\n",
       "        vertical-align: top;\n",
       "    }\n",
       "\n",
       "    .dataframe thead th {\n",
       "        text-align: right;\n",
       "    }\n",
       "</style>\n",
       "<table border=\"1\" class=\"dataframe\">\n",
       "  <thead>\n",
       "    <tr style=\"text-align: right;\">\n",
       "      <th></th>\n",
       "      <th>Survived</th>\n",
       "      <th>Pclass</th>\n",
       "      <th>Sex</th>\n",
       "      <th>Age</th>\n",
       "      <th>SibSp</th>\n",
       "      <th>Parch</th>\n",
       "      <th>Ticket</th>\n",
       "      <th>Fare</th>\n",
       "      <th>Embarked</th>\n",
       "    </tr>\n",
       "  </thead>\n",
       "  <tbody>\n",
       "    <tr>\n",
       "      <th>0</th>\n",
       "      <td>0</td>\n",
       "      <td>3</td>\n",
       "      <td>male</td>\n",
       "      <td>22.0</td>\n",
       "      <td>1</td>\n",
       "      <td>0</td>\n",
       "      <td>A/5 21171</td>\n",
       "      <td>7.2500</td>\n",
       "      <td>S</td>\n",
       "    </tr>\n",
       "    <tr>\n",
       "      <th>1</th>\n",
       "      <td>1</td>\n",
       "      <td>1</td>\n",
       "      <td>female</td>\n",
       "      <td>38.0</td>\n",
       "      <td>1</td>\n",
       "      <td>0</td>\n",
       "      <td>PC 17599</td>\n",
       "      <td>71.2833</td>\n",
       "      <td>C</td>\n",
       "    </tr>\n",
       "    <tr>\n",
       "      <th>2</th>\n",
       "      <td>1</td>\n",
       "      <td>3</td>\n",
       "      <td>female</td>\n",
       "      <td>26.0</td>\n",
       "      <td>0</td>\n",
       "      <td>0</td>\n",
       "      <td>STON/O2. 3101282</td>\n",
       "      <td>7.9250</td>\n",
       "      <td>S</td>\n",
       "    </tr>\n",
       "    <tr>\n",
       "      <th>3</th>\n",
       "      <td>1</td>\n",
       "      <td>1</td>\n",
       "      <td>female</td>\n",
       "      <td>35.0</td>\n",
       "      <td>1</td>\n",
       "      <td>0</td>\n",
       "      <td>113803</td>\n",
       "      <td>53.1000</td>\n",
       "      <td>S</td>\n",
       "    </tr>\n",
       "    <tr>\n",
       "      <th>4</th>\n",
       "      <td>0</td>\n",
       "      <td>3</td>\n",
       "      <td>male</td>\n",
       "      <td>35.0</td>\n",
       "      <td>0</td>\n",
       "      <td>0</td>\n",
       "      <td>373450</td>\n",
       "      <td>8.0500</td>\n",
       "      <td>S</td>\n",
       "    </tr>\n",
       "  </tbody>\n",
       "</table>\n",
       "</div>"
      ],
      "text/plain": [
       "   Survived  Pclass     Sex   Age  SibSp  Parch            Ticket     Fare  \\\n",
       "0         0       3    male  22.0      1      0         A/5 21171   7.2500   \n",
       "1         1       1  female  38.0      1      0          PC 17599  71.2833   \n",
       "2         1       3  female  26.0      0      0  STON/O2. 3101282   7.9250   \n",
       "3         1       1  female  35.0      1      0            113803  53.1000   \n",
       "4         0       3    male  35.0      0      0            373450   8.0500   \n",
       "\n",
       "  Embarked  \n",
       "0        S  \n",
       "1        C  \n",
       "2        S  \n",
       "3        S  \n",
       "4        S  "
      ]
     },
     "execution_count": 27,
     "metadata": {},
     "output_type": "execute_result"
    }
   ],
   "source": [
    "df.head()"
   ]
  },
  {
   "cell_type": "code",
   "execution_count": 29,
   "id": "a61e31ef",
   "metadata": {
    "execution": {
     "iopub.execute_input": "2021-10-05T19:01:34.317305Z",
     "iopub.status.busy": "2021-10-05T19:01:34.316403Z",
     "iopub.status.idle": "2021-10-05T19:01:34.323322Z",
     "shell.execute_reply": "2021-10-05T19:01:34.323845Z",
     "shell.execute_reply.started": "2021-10-05T18:41:52.618528Z"
    },
    "papermill": {
     "duration": 0.060546,
     "end_time": "2021-10-05T19:01:34.324033",
     "exception": false,
     "start_time": "2021-10-05T19:01:34.263487",
     "status": "completed"
    },
    "tags": []
   },
   "outputs": [],
   "source": [
    "gender=pd.get_dummies(df.Sex).drop('male',axis=1)"
   ]
  },
  {
   "cell_type": "code",
   "execution_count": 30,
   "id": "13f75174",
   "metadata": {
    "execution": {
     "iopub.execute_input": "2021-10-05T19:01:34.413777Z",
     "iopub.status.busy": "2021-10-05T19:01:34.412887Z",
     "iopub.status.idle": "2021-10-05T19:01:34.420408Z",
     "shell.execute_reply": "2021-10-05T19:01:34.420906Z",
     "shell.execute_reply.started": "2021-10-05T18:41:52.631156Z"
    },
    "papermill": {
     "duration": 0.054056,
     "end_time": "2021-10-05T19:01:34.421067",
     "exception": false,
     "start_time": "2021-10-05T19:01:34.367011",
     "status": "completed"
    },
    "tags": []
   },
   "outputs": [
    {
     "data": {
      "text/html": [
       "<div>\n",
       "<style scoped>\n",
       "    .dataframe tbody tr th:only-of-type {\n",
       "        vertical-align: middle;\n",
       "    }\n",
       "\n",
       "    .dataframe tbody tr th {\n",
       "        vertical-align: top;\n",
       "    }\n",
       "\n",
       "    .dataframe thead th {\n",
       "        text-align: right;\n",
       "    }\n",
       "</style>\n",
       "<table border=\"1\" class=\"dataframe\">\n",
       "  <thead>\n",
       "    <tr style=\"text-align: right;\">\n",
       "      <th></th>\n",
       "      <th>female</th>\n",
       "    </tr>\n",
       "  </thead>\n",
       "  <tbody>\n",
       "    <tr>\n",
       "      <th>0</th>\n",
       "      <td>0</td>\n",
       "    </tr>\n",
       "    <tr>\n",
       "      <th>1</th>\n",
       "      <td>1</td>\n",
       "    </tr>\n",
       "    <tr>\n",
       "      <th>2</th>\n",
       "      <td>1</td>\n",
       "    </tr>\n",
       "    <tr>\n",
       "      <th>3</th>\n",
       "      <td>1</td>\n",
       "    </tr>\n",
       "    <tr>\n",
       "      <th>4</th>\n",
       "      <td>0</td>\n",
       "    </tr>\n",
       "  </tbody>\n",
       "</table>\n",
       "</div>"
      ],
      "text/plain": [
       "   female\n",
       "0       0\n",
       "1       1\n",
       "2       1\n",
       "3       1\n",
       "4       0"
      ]
     },
     "execution_count": 30,
     "metadata": {},
     "output_type": "execute_result"
    }
   ],
   "source": [
    "gender.head()"
   ]
  },
  {
   "cell_type": "code",
   "execution_count": 31,
   "id": "0e5c4dc4",
   "metadata": {
    "execution": {
     "iopub.execute_input": "2021-10-05T19:01:34.509685Z",
     "iopub.status.busy": "2021-10-05T19:01:34.508791Z",
     "iopub.status.idle": "2021-10-05T19:01:34.513119Z",
     "shell.execute_reply": "2021-10-05T19:01:34.513591Z",
     "shell.execute_reply.started": "2021-10-05T18:41:52.651112Z"
    },
    "papermill": {
     "duration": 0.050262,
     "end_time": "2021-10-05T19:01:34.513752",
     "exception": false,
     "start_time": "2021-10-05T19:01:34.463490",
     "status": "completed"
    },
    "tags": []
   },
   "outputs": [],
   "source": [
    "gender=gender.rename(columns={'female':'Gender'})"
   ]
  },
  {
   "cell_type": "code",
   "execution_count": 32,
   "id": "4aec306d",
   "metadata": {
    "execution": {
     "iopub.execute_input": "2021-10-05T19:01:34.608198Z",
     "iopub.status.busy": "2021-10-05T19:01:34.601835Z",
     "iopub.status.idle": "2021-10-05T19:01:34.611128Z",
     "shell.execute_reply": "2021-10-05T19:01:34.611514Z",
     "shell.execute_reply.started": "2021-10-05T18:41:52.668386Z"
    },
    "papermill": {
     "duration": 0.055507,
     "end_time": "2021-10-05T19:01:34.611686",
     "exception": false,
     "start_time": "2021-10-05T19:01:34.556179",
     "status": "completed"
    },
    "tags": []
   },
   "outputs": [
    {
     "data": {
      "text/html": [
       "<div>\n",
       "<style scoped>\n",
       "    .dataframe tbody tr th:only-of-type {\n",
       "        vertical-align: middle;\n",
       "    }\n",
       "\n",
       "    .dataframe tbody tr th {\n",
       "        vertical-align: top;\n",
       "    }\n",
       "\n",
       "    .dataframe thead th {\n",
       "        text-align: right;\n",
       "    }\n",
       "</style>\n",
       "<table border=\"1\" class=\"dataframe\">\n",
       "  <thead>\n",
       "    <tr style=\"text-align: right;\">\n",
       "      <th></th>\n",
       "      <th>C</th>\n",
       "      <th>Q</th>\n",
       "      <th>S</th>\n",
       "    </tr>\n",
       "  </thead>\n",
       "  <tbody>\n",
       "    <tr>\n",
       "      <th>0</th>\n",
       "      <td>0</td>\n",
       "      <td>0</td>\n",
       "      <td>1</td>\n",
       "    </tr>\n",
       "    <tr>\n",
       "      <th>1</th>\n",
       "      <td>1</td>\n",
       "      <td>0</td>\n",
       "      <td>0</td>\n",
       "    </tr>\n",
       "    <tr>\n",
       "      <th>2</th>\n",
       "      <td>0</td>\n",
       "      <td>0</td>\n",
       "      <td>1</td>\n",
       "    </tr>\n",
       "    <tr>\n",
       "      <th>3</th>\n",
       "      <td>0</td>\n",
       "      <td>0</td>\n",
       "      <td>1</td>\n",
       "    </tr>\n",
       "    <tr>\n",
       "      <th>4</th>\n",
       "      <td>0</td>\n",
       "      <td>0</td>\n",
       "      <td>1</td>\n",
       "    </tr>\n",
       "  </tbody>\n",
       "</table>\n",
       "</div>"
      ],
      "text/plain": [
       "   C  Q  S\n",
       "0  0  0  1\n",
       "1  1  0  0\n",
       "2  0  0  1\n",
       "3  0  0  1\n",
       "4  0  0  1"
      ]
     },
     "execution_count": 32,
     "metadata": {},
     "output_type": "execute_result"
    }
   ],
   "source": [
    "embarked=pd.get_dummies(df.Embarked)\n",
    "embarked.head()"
   ]
  },
  {
   "cell_type": "code",
   "execution_count": 33,
   "id": "54cae10d",
   "metadata": {
    "execution": {
     "iopub.execute_input": "2021-10-05T19:01:34.700743Z",
     "iopub.status.busy": "2021-10-05T19:01:34.700206Z",
     "iopub.status.idle": "2021-10-05T19:01:34.705674Z",
     "shell.execute_reply": "2021-10-05T19:01:34.706188Z",
     "shell.execute_reply.started": "2021-10-05T18:41:52.691558Z"
    },
    "papermill": {
     "duration": 0.051763,
     "end_time": "2021-10-05T19:01:34.706348",
     "exception": false,
     "start_time": "2021-10-05T19:01:34.654585",
     "status": "completed"
    },
    "tags": []
   },
   "outputs": [],
   "source": [
    "df=pd.concat([df,gender,embarked],axis=1)"
   ]
  },
  {
   "cell_type": "code",
   "execution_count": 34,
   "id": "7dc551d1",
   "metadata": {
    "execution": {
     "iopub.execute_input": "2021-10-05T19:01:34.796030Z",
     "iopub.status.busy": "2021-10-05T19:01:34.795409Z",
     "iopub.status.idle": "2021-10-05T19:01:34.799900Z",
     "shell.execute_reply": "2021-10-05T19:01:34.800347Z",
     "shell.execute_reply.started": "2021-10-05T18:41:52.712526Z"
    },
    "papermill": {
     "duration": 0.050907,
     "end_time": "2021-10-05T19:01:34.800511",
     "exception": false,
     "start_time": "2021-10-05T19:01:34.749604",
     "status": "completed"
    },
    "tags": []
   },
   "outputs": [],
   "source": [
    "df=df.drop(['Sex','Ticket','Embarked'],axis=1)"
   ]
  },
  {
   "cell_type": "code",
   "execution_count": 35,
   "id": "bc2b8d88",
   "metadata": {
    "execution": {
     "iopub.execute_input": "2021-10-05T19:01:34.890840Z",
     "iopub.status.busy": "2021-10-05T19:01:34.890245Z",
     "iopub.status.idle": "2021-10-05T19:01:34.894264Z",
     "shell.execute_reply": "2021-10-05T19:01:34.894713Z",
     "shell.execute_reply.started": "2021-10-05T18:41:52.730938Z"
    },
    "papermill": {
     "duration": 0.050381,
     "end_time": "2021-10-05T19:01:34.894896",
     "exception": false,
     "start_time": "2021-10-05T19:01:34.844515",
     "status": "completed"
    },
    "tags": []
   },
   "outputs": [],
   "source": [
    "df.Age=df.Age.round()"
   ]
  },
  {
   "cell_type": "code",
   "execution_count": 36,
   "id": "b0846f9a",
   "metadata": {
    "execution": {
     "iopub.execute_input": "2021-10-05T19:01:34.988984Z",
     "iopub.status.busy": "2021-10-05T19:01:34.987564Z",
     "iopub.status.idle": "2021-10-05T19:01:34.997973Z",
     "shell.execute_reply": "2021-10-05T19:01:34.998480Z",
     "shell.execute_reply.started": "2021-10-05T18:41:52.744617Z"
    },
    "papermill": {
     "duration": 0.059708,
     "end_time": "2021-10-05T19:01:34.998649",
     "exception": false,
     "start_time": "2021-10-05T19:01:34.938941",
     "status": "completed"
    },
    "tags": []
   },
   "outputs": [
    {
     "data": {
      "text/html": [
       "<div>\n",
       "<style scoped>\n",
       "    .dataframe tbody tr th:only-of-type {\n",
       "        vertical-align: middle;\n",
       "    }\n",
       "\n",
       "    .dataframe tbody tr th {\n",
       "        vertical-align: top;\n",
       "    }\n",
       "\n",
       "    .dataframe thead th {\n",
       "        text-align: right;\n",
       "    }\n",
       "</style>\n",
       "<table border=\"1\" class=\"dataframe\">\n",
       "  <thead>\n",
       "    <tr style=\"text-align: right;\">\n",
       "      <th></th>\n",
       "      <th>Survived</th>\n",
       "      <th>Pclass</th>\n",
       "      <th>Age</th>\n",
       "      <th>SibSp</th>\n",
       "      <th>Parch</th>\n",
       "      <th>Fare</th>\n",
       "      <th>Gender</th>\n",
       "      <th>C</th>\n",
       "      <th>Q</th>\n",
       "      <th>S</th>\n",
       "    </tr>\n",
       "  </thead>\n",
       "  <tbody>\n",
       "    <tr>\n",
       "      <th>0</th>\n",
       "      <td>0</td>\n",
       "      <td>3</td>\n",
       "      <td>22.0</td>\n",
       "      <td>1</td>\n",
       "      <td>0</td>\n",
       "      <td>7.2500</td>\n",
       "      <td>0</td>\n",
       "      <td>0</td>\n",
       "      <td>0</td>\n",
       "      <td>1</td>\n",
       "    </tr>\n",
       "    <tr>\n",
       "      <th>1</th>\n",
       "      <td>1</td>\n",
       "      <td>1</td>\n",
       "      <td>38.0</td>\n",
       "      <td>1</td>\n",
       "      <td>0</td>\n",
       "      <td>71.2833</td>\n",
       "      <td>1</td>\n",
       "      <td>1</td>\n",
       "      <td>0</td>\n",
       "      <td>0</td>\n",
       "    </tr>\n",
       "    <tr>\n",
       "      <th>2</th>\n",
       "      <td>1</td>\n",
       "      <td>3</td>\n",
       "      <td>26.0</td>\n",
       "      <td>0</td>\n",
       "      <td>0</td>\n",
       "      <td>7.9250</td>\n",
       "      <td>1</td>\n",
       "      <td>0</td>\n",
       "      <td>0</td>\n",
       "      <td>1</td>\n",
       "    </tr>\n",
       "    <tr>\n",
       "      <th>3</th>\n",
       "      <td>1</td>\n",
       "      <td>1</td>\n",
       "      <td>35.0</td>\n",
       "      <td>1</td>\n",
       "      <td>0</td>\n",
       "      <td>53.1000</td>\n",
       "      <td>1</td>\n",
       "      <td>0</td>\n",
       "      <td>0</td>\n",
       "      <td>1</td>\n",
       "    </tr>\n",
       "    <tr>\n",
       "      <th>4</th>\n",
       "      <td>0</td>\n",
       "      <td>3</td>\n",
       "      <td>35.0</td>\n",
       "      <td>0</td>\n",
       "      <td>0</td>\n",
       "      <td>8.0500</td>\n",
       "      <td>0</td>\n",
       "      <td>0</td>\n",
       "      <td>0</td>\n",
       "      <td>1</td>\n",
       "    </tr>\n",
       "  </tbody>\n",
       "</table>\n",
       "</div>"
      ],
      "text/plain": [
       "   Survived  Pclass   Age  SibSp  Parch     Fare  Gender  C  Q  S\n",
       "0         0       3  22.0      1      0   7.2500       0  0  0  1\n",
       "1         1       1  38.0      1      0  71.2833       1  1  0  0\n",
       "2         1       3  26.0      0      0   7.9250       1  0  0  1\n",
       "3         1       1  35.0      1      0  53.1000       1  0  0  1\n",
       "4         0       3  35.0      0      0   8.0500       0  0  0  1"
      ]
     },
     "execution_count": 36,
     "metadata": {},
     "output_type": "execute_result"
    }
   ],
   "source": [
    "df.head()"
   ]
  },
  {
   "cell_type": "code",
   "execution_count": 47,
   "id": "abce2143",
   "metadata": {
    "execution": {
     "iopub.execute_input": "2021-10-05T19:01:35.088042Z",
     "iopub.status.busy": "2021-10-05T19:01:35.087431Z",
     "iopub.status.idle": "2021-10-05T19:01:35.090192Z",
     "shell.execute_reply": "2021-10-05T19:01:35.090703Z",
     "shell.execute_reply.started": "2021-10-05T18:41:52.774204Z"
    },
    "papermill": {
     "duration": 0.048874,
     "end_time": "2021-10-05T19:01:35.090882",
     "exception": false,
     "start_time": "2021-10-05T19:01:35.042008",
     "status": "completed"
    },
    "tags": []
   },
   "outputs": [],
   "source": [
    "#So,let's go ahead for EDA ;)"
   ]
  },
  {
   "cell_type": "markdown",
   "id": "3a29b2ae",
   "metadata": {
    "papermill": {
     "duration": 0.042848,
     "end_time": "2021-10-05T19:01:35.177372",
     "exception": false,
     "start_time": "2021-10-05T19:01:35.134524",
     "status": "completed"
    },
    "tags": []
   },
   "source": [
    "Exploratory data analysis \n"
   ]
  },
  {
   "cell_type": "code",
   "execution_count": 48,
   "id": "f6f0b33d",
   "metadata": {
    "execution": {
     "iopub.execute_input": "2021-10-05T19:01:35.267943Z",
     "iopub.status.busy": "2021-10-05T19:01:35.267381Z",
     "iopub.status.idle": "2021-10-05T19:01:35.461538Z",
     "shell.execute_reply": "2021-10-05T19:01:35.461992Z",
     "shell.execute_reply.started": "2021-10-05T18:41:52.786488Z"
    },
    "papermill": {
     "duration": 0.241297,
     "end_time": "2021-10-05T19:01:35.462167",
     "exception": false,
     "start_time": "2021-10-05T19:01:35.220870",
     "status": "completed"
    },
    "tags": []
   },
   "outputs": [
    {
     "data": {
      "text/plain": [
       "<AxesSubplot:xlabel='Survived', ylabel='count'>"
      ]
     },
     "execution_count": 48,
     "metadata": {},
     "output_type": "execute_result"
    },
    {
     "data": {
      "image/png": "[encoded data removed]",
      "text/plain": [
       "<Figure size 432x288 with 1 Axes>"
      ]
     },
     "metadata": {
      "needs_background": "light"
     },
     "output_type": "display_data"
    }
   ],
   "source": [
    "sns.countplot(x='Survived',data=df,hue='Gender')"
   ]
  },
  {
   "cell_type": "code",
   "execution_count": 49,
   "id": "2a605a7b",
   "metadata": {
    "execution": {
     "iopub.execute_input": "2021-10-05T19:01:35.554226Z",
     "iopub.status.busy": "2021-10-05T19:01:35.553411Z",
     "iopub.status.idle": "2021-10-05T19:01:35.556117Z",
     "shell.execute_reply": "2021-10-05T19:01:35.556549Z",
     "shell.execute_reply.started": "2021-10-05T18:41:52.978674Z"
    },
    "papermill": {
     "duration": 0.050495,
     "end_time": "2021-10-05T19:01:35.556702",
     "exception": false,
     "start_time": "2021-10-05T19:01:35.506207",
     "status": "completed"
    },
    "tags": []
   },
   "outputs": [],
   "source": [
    "#1 refers to female "
   ]
  },
  {
   "cell_type": "code",
   "execution_count": 50,
   "id": "718aafd6",
   "metadata": {
    "execution": {
     "iopub.execute_input": "2021-10-05T19:01:35.648835Z",
     "iopub.status.busy": "2021-10-05T19:01:35.647966Z",
     "iopub.status.idle": "2021-10-05T19:01:35.887961Z",
     "shell.execute_reply": "2021-10-05T19:01:35.888389Z",
     "shell.execute_reply.started": "2021-10-05T18:41:52.986256Z"
    },
    "papermill": {
     "duration": 0.28781,
     "end_time": "2021-10-05T19:01:35.888572",
     "exception": false,
     "start_time": "2021-10-05T19:01:35.600762",
     "status": "completed"
    },
    "tags": []
   },
   "outputs": [
    {
     "data": {
      "text/plain": [
       "<AxesSubplot:xlabel='Age', ylabel='Count'>"
      ]
     },
     "execution_count": 50,
     "metadata": {},
     "output_type": "execute_result"
    },
    {
     "data": {
      "image/png": "[encoded data removed]",
      "text/plain": [
       "<Figure size 432x288 with 1 Axes>"
      ]
     },
     "metadata": {
      "needs_background": "light"
     },
     "output_type": "display_data"
    }
   ],
   "source": [
    "sns.histplot(x='Age',data=df)"
   ]
  },
  {
   "cell_type": "markdown",
   "id": "9f9f2a1e",
   "metadata": {
    "papermill": {
     "duration": 0.044836,
     "end_time": "2021-10-05T19:01:35.978832",
     "exception": false,
     "start_time": "2021-10-05T19:01:35.933996",
     "status": "completed"
    },
    "tags": []
   },
   "source": [
    "Building the model"
   ]
  },
  {
   "cell_type": "code",
   "execution_count": 51,
   "id": "bdd8bb8d",
   "metadata": {
    "execution": {
     "iopub.execute_input": "2021-10-05T19:01:36.074133Z",
     "iopub.status.busy": "2021-10-05T19:01:36.073181Z",
     "iopub.status.idle": "2021-10-05T19:01:36.382308Z",
     "shell.execute_reply": "2021-10-05T19:01:36.382739Z",
     "shell.execute_reply.started": "2021-10-05T18:41:53.270296Z"
    },
    "papermill": {
     "duration": 0.358053,
     "end_time": "2021-10-05T19:01:36.382946",
     "exception": false,
     "start_time": "2021-10-05T19:01:36.024893",
     "status": "completed"
    },
    "tags": []
   },
   "outputs": [],
   "source": [
    "from sklearn.linear_model import LogisticRegression "
   ]
  },
  {
   "cell_type": "code",
   "execution_count": 52,
   "id": "6d1421d5",
   "metadata": {
    "execution": {
     "iopub.execute_input": "2021-10-05T19:01:36.478849Z",
     "iopub.status.busy": "2021-10-05T19:01:36.477919Z",
     "iopub.status.idle": "2021-10-05T19:01:36.481044Z",
     "shell.execute_reply": "2021-10-05T19:01:36.481460Z",
     "shell.execute_reply.started": "2021-10-05T18:41:53.793156Z"
    },
    "papermill": {
     "duration": 0.053367,
     "end_time": "2021-10-05T19:01:36.481620",
     "exception": false,
     "start_time": "2021-10-05T19:01:36.428253",
     "status": "completed"
    },
    "tags": []
   },
   "outputs": [],
   "source": [
    "model=LogisticRegression(max_iter=6000)"
   ]
  },
  {
   "cell_type": "code",
   "execution_count": 53,
   "id": "4768651a",
   "metadata": {
    "execution": {
     "iopub.execute_input": "2021-10-05T19:01:36.575220Z",
     "iopub.status.busy": "2021-10-05T19:01:36.573492Z",
     "iopub.status.idle": "2021-10-05T19:01:36.576965Z",
     "shell.execute_reply": "2021-10-05T19:01:36.577381Z",
     "shell.execute_reply.started": "2021-10-05T18:41:53.800961Z"
    },
    "papermill": {
     "duration": 0.051107,
     "end_time": "2021-10-05T19:01:36.577530",
     "exception": false,
     "start_time": "2021-10-05T19:01:36.526423",
     "status": "completed"
    },
    "tags": []
   },
   "outputs": [],
   "source": [
    "from sklearn.model_selection import train_test_split"
   ]
  },
  {
   "cell_type": "code",
   "execution_count": 54,
   "id": "cd21ad57",
   "metadata": {
    "execution": {
     "iopub.execute_input": "2021-10-05T19:01:36.670645Z",
     "iopub.status.busy": "2021-10-05T19:01:36.669780Z",
     "iopub.status.idle": "2021-10-05T19:01:36.674422Z",
     "shell.execute_reply": "2021-10-05T19:01:36.674826Z",
     "shell.execute_reply.started": "2021-10-05T18:41:53.816435Z"
    },
    "papermill": {
     "duration": 0.052548,
     "end_time": "2021-10-05T19:01:36.674982",
     "exception": false,
     "start_time": "2021-10-05T19:01:36.622434",
     "status": "completed"
    },
    "tags": []
   },
   "outputs": [],
   "source": [
    "X=df.drop('Survived',axis=1)\n",
    "y=df.Survived"
   ]
  },
  {
   "cell_type": "code",
   "execution_count": 55,
   "id": "e00849b9",
   "metadata": {
    "execution": {
     "iopub.execute_input": "2021-10-05T19:01:36.768376Z",
     "iopub.status.busy": "2021-10-05T19:01:36.767463Z",
     "iopub.status.idle": "2021-10-05T19:01:36.773344Z",
     "shell.execute_reply": "2021-10-05T19:01:36.773750Z",
     "shell.execute_reply.started": "2021-10-05T18:41:53.834492Z"
    },
    "papermill": {
     "duration": 0.054056,
     "end_time": "2021-10-05T19:01:36.773938",
     "exception": false,
     "start_time": "2021-10-05T19:01:36.719882",
     "status": "completed"
    },
    "tags": []
   },
   "outputs": [],
   "source": [
    "X_train, X_test, y_train, y_test=train_test_split(X,y,test_size=0.2)"
   ]
  },
  {
   "cell_type": "code",
   "execution_count": 56,
   "id": "10b8b103",
   "metadata": {
    "execution": {
     "iopub.execute_input": "2021-10-05T19:01:36.867235Z",
     "iopub.status.busy": "2021-10-05T19:01:36.866355Z",
     "iopub.status.idle": "2021-10-05T19:01:36.952701Z",
     "shell.execute_reply": "2021-10-05T19:01:36.953163Z",
     "shell.execute_reply.started": "2021-10-05T18:41:53.852096Z"
    },
    "papermill": {
     "duration": 0.134773,
     "end_time": "2021-10-05T19:01:36.953340",
     "exception": false,
     "start_time": "2021-10-05T19:01:36.818567",
     "status": "completed"
    },
    "tags": []
   },
   "outputs": [
    {
     "data": {
      "text/plain": [
       "LogisticRegression(max_iter=6000)"
      ]
     },
     "execution_count": 56,
     "metadata": {},
     "output_type": "execute_result"
    }
   ],
   "source": [
    "model.fit(X_train,y_train)"
   ]
  },
  {
   "cell_type": "code",
   "execution_count": 57,
   "id": "f15ab16f",
   "metadata": {
    "execution": {
     "iopub.execute_input": "2021-10-05T19:01:37.049425Z",
     "iopub.status.busy": "2021-10-05T19:01:37.048432Z",
     "iopub.status.idle": "2021-10-05T19:01:37.054598Z",
     "shell.execute_reply": "2021-10-05T19:01:37.055074Z",
     "shell.execute_reply.started": "2021-10-05T18:41:53.965395Z"
    },
    "papermill": {
     "duration": 0.056971,
     "end_time": "2021-10-05T19:01:37.055259",
     "exception": false,
     "start_time": "2021-10-05T19:01:36.998288",
     "status": "completed"
    },
    "tags": []
   },
   "outputs": [],
   "source": [
    "y_pred=model.predict(X_test)"
   ]
  },
  {
   "cell_type": "code",
   "execution_count": 58,
   "id": "f0faeb89",
   "metadata": {
    "execution": {
     "iopub.execute_input": "2021-10-05T19:01:37.152945Z",
     "iopub.status.busy": "2021-10-05T19:01:37.152292Z",
     "iopub.status.idle": "2021-10-05T19:01:37.154767Z",
     "shell.execute_reply": "2021-10-05T19:01:37.155227Z",
     "shell.execute_reply.started": "2021-10-05T18:41:53.975448Z"
    },
    "papermill": {
     "duration": 0.05429,
     "end_time": "2021-10-05T19:01:37.155414",
     "exception": false,
     "start_time": "2021-10-05T19:01:37.101124",
     "status": "completed"
    },
    "tags": []
   },
   "outputs": [
    {
     "data": {
      "text/plain": [
       "array([0, 0, 1, 1, 0, 0, 0, 1, 0, 0, 0, 0, 0, 0, 1, 0, 0, 0, 0, 1, 0, 0,\n",
       "       0, 0, 0, 0, 0, 0, 1, 0, 0, 1, 1, 0, 0, 0, 1, 0, 1, 0, 0, 0, 0, 0,\n",
       "       0, 1, 1, 0, 0, 0, 1, 0, 0, 0, 1, 0, 0, 0, 0, 0, 0, 1, 0, 1, 0, 0,\n",
       "       0, 0, 0, 0, 1, 0, 0, 0, 1, 0, 1, 0, 1, 0, 0, 0, 0, 1, 1, 0, 0, 0,\n",
       "       0, 0, 0, 0, 1, 1, 1, 0, 0, 0, 0, 1, 1, 1, 1, 1, 1, 1, 1, 0, 0, 0,\n",
       "       0, 0, 0, 0, 0, 0, 1, 0, 0, 0, 0, 0, 0, 1, 1, 0, 0, 0, 1, 1, 1, 0,\n",
       "       1, 1, 1, 0, 0, 1, 1, 1, 0, 1, 1, 0, 0, 0, 0, 0, 1, 1, 1, 0, 0, 1,\n",
       "       0, 1, 1, 0, 0, 0, 1, 0, 0, 0, 0, 0, 0, 0, 0, 0, 0, 1, 0, 0, 1, 0,\n",
       "       0, 0, 0])"
      ]
     },
     "execution_count": 58,
     "metadata": {},
     "output_type": "execute_result"
    }
   ],
   "source": [
    "y_pred"
   ]
  },
  {
   "cell_type": "code",
   "execution_count": 59,
   "id": "3d270d33",
   "metadata": {
    "execution": {
     "iopub.execute_input": "2021-10-05T19:01:37.253268Z",
     "iopub.status.busy": "2021-10-05T19:01:37.252669Z",
     "iopub.status.idle": "2021-10-05T19:01:37.258420Z",
     "shell.execute_reply": "2021-10-05T19:01:37.257945Z",
     "shell.execute_reply.started": "2021-10-05T18:41:53.991029Z"
    },
    "papermill": {
     "duration": 0.056243,
     "end_time": "2021-10-05T19:01:37.258553",
     "exception": false,
     "start_time": "2021-10-05T19:01:37.202310",
     "status": "completed"
    },
    "tags": []
   },
   "outputs": [
    {
     "data": {
      "text/plain": [
       "array([0, 0, 1, 1, 0, 0, 0, 1, 1, 0, 1, 0, 1, 0, 1, 0, 0, 0, 1, 1, 0, 0,\n",
       "       0, 0, 0, 0, 0, 0, 0, 0, 0, 1, 1, 0, 1, 1, 1, 0, 1, 0, 0, 0, 1, 0,\n",
       "       0, 0, 1, 0, 0, 0, 0, 1, 0, 1, 0, 0, 0, 0, 1, 0, 0, 0, 0, 1, 0, 0,\n",
       "       0, 0, 0, 0, 1, 1, 0, 1, 1, 0, 0, 0, 1, 1, 0, 0, 0, 1, 1, 0, 0, 0,\n",
       "       1, 0, 0, 0, 1, 1, 1, 0, 0, 0, 0, 1, 0, 1, 1, 1, 1, 1, 1, 0, 1, 0,\n",
       "       0, 0, 0, 0, 0, 0, 1, 0, 1, 0, 0, 0, 0, 1, 1, 0, 0, 0, 0, 1, 1, 0,\n",
       "       0, 1, 1, 0, 0, 1, 1, 1, 0, 0, 1, 0, 0, 0, 0, 0, 1, 0, 1, 1, 0, 1,\n",
       "       0, 1, 0, 0, 0, 0, 1, 1, 0, 0, 0, 1, 0, 0, 0, 0, 0, 1, 0, 1, 1, 0,\n",
       "       0, 1, 0])"
      ]
     },
     "execution_count": 59,
     "metadata": {},
     "output_type": "execute_result"
    }
   ],
   "source": [
    "y_test.values"
   ]
  },
  {
   "cell_type": "markdown",
   "id": "f1b2c672",
   "metadata": {
    "papermill": {
     "duration": 0.04582,
     "end_time": "2021-10-05T19:01:37.350307",
     "exception": false,
     "start_time": "2021-10-05T19:01:37.304487",
     "status": "completed"
    },
    "tags": []
   },
   "source": [
    "Evaluate the model"
   ]
  },
  {
   "cell_type": "code",
   "execution_count": 60,
   "id": "485e53a3",
   "metadata": {
    "execution": {
     "iopub.execute_input": "2021-10-05T19:01:37.446024Z",
     "iopub.status.busy": "2021-10-05T19:01:37.445362Z",
     "iopub.status.idle": "2021-10-05T19:01:37.449142Z",
     "shell.execute_reply": "2021-10-05T19:01:37.449608Z",
     "shell.execute_reply.started": "2021-10-05T18:41:54.007489Z"
    },
    "papermill": {
     "duration": 0.05343,
     "end_time": "2021-10-05T19:01:37.449773",
     "exception": false,
     "start_time": "2021-10-05T19:01:37.396343",
     "status": "completed"
    },
    "tags": []
   },
   "outputs": [],
   "source": [
    "from sklearn.metrics import confusion_matrix"
   ]
  },
  {
   "cell_type": "code",
   "execution_count": 61,
   "id": "6a1700d4",
   "metadata": {
    "execution": {
     "iopub.execute_input": "2021-10-05T19:01:37.544901Z",
     "iopub.status.busy": "2021-10-05T19:01:37.544347Z",
     "iopub.status.idle": "2021-10-05T19:01:37.551302Z",
     "shell.execute_reply": "2021-10-05T19:01:37.551829Z",
     "shell.execute_reply.started": "2021-10-05T18:41:54.026235Z"
    },
    "papermill": {
     "duration": 0.056103,
     "end_time": "2021-10-05T19:01:37.551986",
     "exception": false,
     "start_time": "2021-10-05T19:01:37.495883",
     "status": "completed"
    },
    "tags": []
   },
   "outputs": [
    {
     "data": {
      "text/plain": [
       "array([[102,  12],\n",
       "       [ 21,  44]])"
      ]
     },
     "execution_count": 61,
     "metadata": {},
     "output_type": "execute_result"
    }
   ],
   "source": [
    "confusion_matrix(y_test,y_pred)"
   ]
  },
  {
   "cell_type": "code",
   "execution_count": 62,
   "id": "8815605d",
   "metadata": {
    "execution": {
     "iopub.execute_input": "2021-10-05T19:01:37.646566Z",
     "iopub.status.busy": "2021-10-05T19:01:37.646009Z",
     "iopub.status.idle": "2021-10-05T19:01:37.650310Z",
     "shell.execute_reply": "2021-10-05T19:01:37.649864Z",
     "shell.execute_reply.started": "2021-10-05T18:41:54.052182Z"
    },
    "papermill": {
     "duration": 0.052764,
     "end_time": "2021-10-05T19:01:37.650443",
     "exception": false,
     "start_time": "2021-10-05T19:01:37.597679",
     "status": "completed"
    },
    "tags": []
   },
   "outputs": [],
   "source": [
    "from sklearn.metrics import classification_report "
   ]
  },
  {
   "cell_type": "code",
   "execution_count": 63,
   "id": "1380c657",
   "metadata": {
    "execution": {
     "iopub.execute_input": "2021-10-05T19:01:37.746121Z",
     "iopub.status.busy": "2021-10-05T19:01:37.745213Z",
     "iopub.status.idle": "2021-10-05T19:01:37.754338Z",
     "shell.execute_reply": "2021-10-05T19:01:37.753661Z",
     "shell.execute_reply.started": "2021-10-05T18:41:54.060328Z"
    },
    "papermill": {
     "duration": 0.058147,
     "end_time": "2021-10-05T19:01:37.754527",
     "exception": false,
     "start_time": "2021-10-05T19:01:37.696380",
     "status": "completed"
    },
    "tags": []
   },
   "outputs": [
    {
     "name": "stdout",
     "output_type": "stream",
     "text": [
      "              precision    recall  f1-score   support\n",
      "\n",
      "           0       0.83      0.89      0.86       114\n",
      "           1       0.79      0.68      0.73        65\n",
      "\n",
      "    accuracy                           0.82       179\n",
      "   macro avg       0.81      0.79      0.79       179\n",
      "weighted avg       0.81      0.82      0.81       179\n",
      "\n"
     ]
    }
   ],
   "source": [
    "print(classification_report(y_test,y_pred))"
   ]
  },
  {
   "cell_type": "markdown",
   "id": "2e4f95c8",
   "metadata": {
    "papermill": {
     "duration": 0.046546,
     "end_time": "2021-10-05T19:01:37.849154",
     "exception": false,
     "start_time": "2021-10-05T19:01:37.802608",
     "status": "completed"
    },
    "tags": []
   },
   "source": [
    "The submission "
   ]
  },
  {
   "cell_type": "code",
   "execution_count": 64,
   "id": "8e135dbb",
   "metadata": {
    "execution": {
     "iopub.execute_input": "2021-10-05T19:01:37.946632Z",
     "iopub.status.busy": "2021-10-05T19:01:37.945731Z",
     "iopub.status.idle": "2021-10-05T19:01:37.964716Z",
     "shell.execute_reply": "2021-10-05T19:01:37.965164Z",
     "shell.execute_reply.started": "2021-10-05T18:41:54.087048Z"
    },
    "papermill": {
     "duration": 0.068815,
     "end_time": "2021-10-05T19:01:37.965321",
     "exception": false,
     "start_time": "2021-10-05T19:01:37.896506",
     "status": "completed"
    },
    "tags": []
   },
   "outputs": [
    {
     "data": {
      "text/html": [
       "<div>\n",
       "<style scoped>\n",
       "    .dataframe tbody tr th:only-of-type {\n",
       "        vertical-align: middle;\n",
       "    }\n",
       "\n",
       "    .dataframe tbody tr th {\n",
       "        vertical-align: top;\n",
       "    }\n",
       "\n",
       "    .dataframe thead th {\n",
       "        text-align: right;\n",
       "    }\n",
       "</style>\n",
       "<table border=\"1\" class=\"dataframe\">\n",
       "  <thead>\n",
       "    <tr style=\"text-align: right;\">\n",
       "      <th></th>\n",
       "      <th>PassengerId</th>\n",
       "      <th>Pclass</th>\n",
       "      <th>Name</th>\n",
       "      <th>Sex</th>\n",
       "      <th>Age</th>\n",
       "      <th>SibSp</th>\n",
       "      <th>Parch</th>\n",
       "      <th>Ticket</th>\n",
       "      <th>Fare</th>\n",
       "      <th>Cabin</th>\n",
       "      <th>Embarked</th>\n",
       "    </tr>\n",
       "  </thead>\n",
       "  <tbody>\n",
       "    <tr>\n",
       "      <th>0</th>\n",
       "      <td>892</td>\n",
       "      <td>3</td>\n",
       "      <td>Kelly, Mr. James</td>\n",
       "      <td>male</td>\n",
       "      <td>34.5</td>\n",
       "      <td>0</td>\n",
       "      <td>0</td>\n",
       "      <td>330911</td>\n",
       "      <td>7.8292</td>\n",
       "      <td>NaN</td>\n",
       "      <td>Q</td>\n",
       "    </tr>\n",
       "    <tr>\n",
       "      <th>1</th>\n",
       "      <td>893</td>\n",
       "      <td>3</td>\n",
       "      <td>Wilkes, Mrs. James (Ellen Needs)</td>\n",
       "      <td>female</td>\n",
       "      <td>47.0</td>\n",
       "      <td>1</td>\n",
       "      <td>0</td>\n",
       "      <td>363272</td>\n",
       "      <td>7.0000</td>\n",
       "      <td>NaN</td>\n",
       "      <td>S</td>\n",
       "    </tr>\n",
       "    <tr>\n",
       "      <th>2</th>\n",
       "      <td>894</td>\n",
       "      <td>2</td>\n",
       "      <td>Myles, Mr. Thomas Francis</td>\n",
       "      <td>male</td>\n",
       "      <td>62.0</td>\n",
       "      <td>0</td>\n",
       "      <td>0</td>\n",
       "      <td>240276</td>\n",
       "      <td>9.6875</td>\n",
       "      <td>NaN</td>\n",
       "      <td>Q</td>\n",
       "    </tr>\n",
       "    <tr>\n",
       "      <th>3</th>\n",
       "      <td>895</td>\n",
       "      <td>3</td>\n",
       "      <td>Wirz, Mr. Albert</td>\n",
       "      <td>male</td>\n",
       "      <td>27.0</td>\n",
       "      <td>0</td>\n",
       "      <td>0</td>\n",
       "      <td>315154</td>\n",
       "      <td>8.6625</td>\n",
       "      <td>NaN</td>\n",
       "      <td>S</td>\n",
       "    </tr>\n",
       "    <tr>\n",
       "      <th>4</th>\n",
       "      <td>896</td>\n",
       "      <td>3</td>\n",
       "      <td>Hirvonen, Mrs. Alexander (Helga E Lindqvist)</td>\n",
       "      <td>female</td>\n",
       "      <td>22.0</td>\n",
       "      <td>1</td>\n",
       "      <td>1</td>\n",
       "      <td>3101298</td>\n",
       "      <td>12.2875</td>\n",
       "      <td>NaN</td>\n",
       "      <td>S</td>\n",
       "    </tr>\n",
       "  </tbody>\n",
       "</table>\n",
       "</div>"
      ],
      "text/plain": [
       "   PassengerId  Pclass                                          Name     Sex  \\\n",
       "0          892       3                              Kelly, Mr. James    male   \n",
       "1          893       3              Wilkes, Mrs. James (Ellen Needs)  female   \n",
       "2          894       2                     Myles, Mr. Thomas Francis    male   \n",
       "3          895       3                              Wirz, Mr. Albert    male   \n",
       "4          896       3  Hirvonen, Mrs. Alexander (Helga E Lindqvist)  female   \n",
       "\n",
       "    Age  SibSp  Parch   Ticket     Fare Cabin Embarked  \n",
       "0  34.5      0      0   330911   7.8292   NaN        Q  \n",
       "1  47.0      1      0   363272   7.0000   NaN        S  \n",
       "2  62.0      0      0   240276   9.6875   NaN        Q  \n",
       "3  27.0      0      0   315154   8.6625   NaN        S  \n",
       "4  22.0      1      1  3101298  12.2875   NaN        S  "
      ]
     },
     "execution_count": 64,
     "metadata": {},
     "output_type": "execute_result"
    }
   ],
   "source": [
    "test=pd.read_csv('test.csv')\n",
    "test.head()"
   ]
  },
  {
   "cell_type": "code",
   "execution_count": 65,
   "id": "cdf94aa8",
   "metadata": {
    "execution": {
     "iopub.execute_input": "2021-10-05T19:01:38.064932Z",
     "iopub.status.busy": "2021-10-05T19:01:38.064053Z",
     "iopub.status.idle": "2021-10-05T19:01:38.071037Z",
     "shell.execute_reply": "2021-10-05T19:01:38.071506Z",
     "shell.execute_reply.started": "2021-10-05T18:41:54.117223Z"
    },
    "papermill": {
     "duration": 0.058374,
     "end_time": "2021-10-05T19:01:38.071661",
     "exception": false,
     "start_time": "2021-10-05T19:01:38.013287",
     "status": "completed"
    },
    "tags": []
   },
   "outputs": [
    {
     "data": {
      "text/plain": [
       "PassengerId      0\n",
       "Pclass           0\n",
       "Name             0\n",
       "Sex              0\n",
       "Age             86\n",
       "SibSp            0\n",
       "Parch            0\n",
       "Ticket           0\n",
       "Fare             1\n",
       "Cabin          327\n",
       "Embarked         0\n",
       "dtype: int64"
      ]
     },
     "execution_count": 65,
     "metadata": {},
     "output_type": "execute_result"
    }
   ],
   "source": [
    "test.isnull().sum()"
   ]
  },
  {
   "cell_type": "code",
   "execution_count": 66,
   "id": "71f97cf5",
   "metadata": {
    "execution": {
     "iopub.execute_input": "2021-10-05T19:01:38.172043Z",
     "iopub.status.busy": "2021-10-05T19:01:38.169212Z",
     "iopub.status.idle": "2021-10-05T19:01:38.174729Z",
     "shell.execute_reply": "2021-10-05T19:01:38.174190Z",
     "shell.execute_reply.started": "2021-10-05T18:41:54.131711Z"
    },
    "papermill": {
     "duration": 0.055256,
     "end_time": "2021-10-05T19:01:38.174875",
     "exception": false,
     "start_time": "2021-10-05T19:01:38.119619",
     "status": "completed"
    },
    "tags": []
   },
   "outputs": [],
   "source": [
    "test.Age=test.Age.fillna(test.Age.mean())"
   ]
  },
  {
   "cell_type": "code",
   "execution_count": 67,
   "id": "ed0d8ec3",
   "metadata": {
    "execution": {
     "iopub.execute_input": "2021-10-05T19:01:38.274565Z",
     "iopub.status.busy": "2021-10-05T19:01:38.274000Z",
     "iopub.status.idle": "2021-10-05T19:01:38.276393Z",
     "shell.execute_reply": "2021-10-05T19:01:38.276848Z",
     "shell.execute_reply.started": "2021-10-05T18:41:54.145021Z"
    },
    "papermill": {
     "duration": 0.05545,
     "end_time": "2021-10-05T19:01:38.277010",
     "exception": false,
     "start_time": "2021-10-05T19:01:38.221560",
     "status": "completed"
    },
    "tags": []
   },
   "outputs": [
    {
     "data": {
      "text/plain": [
       "0"
      ]
     },
     "execution_count": 67,
     "metadata": {},
     "output_type": "execute_result"
    }
   ],
   "source": [
    "test.Age.isnull().sum()"
   ]
  },
  {
   "cell_type": "code",
   "execution_count": 68,
   "id": "8b998f87",
   "metadata": {
    "execution": {
     "iopub.execute_input": "2021-10-05T19:01:38.373629Z",
     "iopub.status.busy": "2021-10-05T19:01:38.373049Z",
     "iopub.status.idle": "2021-10-05T19:01:38.377639Z",
     "shell.execute_reply": "2021-10-05T19:01:38.378109Z",
     "shell.execute_reply.started": "2021-10-05T18:41:54.162469Z"
    },
    "papermill": {
     "duration": 0.054412,
     "end_time": "2021-10-05T19:01:38.378291",
     "exception": false,
     "start_time": "2021-10-05T19:01:38.323879",
     "status": "completed"
    },
    "tags": []
   },
   "outputs": [],
   "source": [
    "gender=pd.get_dummies(test.Sex)"
   ]
  },
  {
   "cell_type": "code",
   "execution_count": 69,
   "id": "ae4b4ad4",
   "metadata": {
    "execution": {
     "iopub.execute_input": "2021-10-05T19:01:38.475915Z",
     "iopub.status.busy": "2021-10-05T19:01:38.475009Z",
     "iopub.status.idle": "2021-10-05T19:01:38.479322Z",
     "shell.execute_reply": "2021-10-05T19:01:38.479715Z",
     "shell.execute_reply.started": "2021-10-05T18:41:54.180565Z"
    },
    "papermill": {
     "duration": 0.054567,
     "end_time": "2021-10-05T19:01:38.479896",
     "exception": false,
     "start_time": "2021-10-05T19:01:38.425329",
     "status": "completed"
    },
    "tags": []
   },
   "outputs": [],
   "source": [
    "gender=gender.drop('male',axis=1)"
   ]
  },
  {
   "cell_type": "code",
   "execution_count": 70,
   "id": "769ee438",
   "metadata": {
    "execution": {
     "iopub.execute_input": "2021-10-05T19:01:38.577538Z",
     "iopub.status.busy": "2021-10-05T19:01:38.576648Z",
     "iopub.status.idle": "2021-10-05T19:01:38.580872Z",
     "shell.execute_reply": "2021-10-05T19:01:38.581262Z",
     "shell.execute_reply.started": "2021-10-05T18:41:54.196914Z"
    },
    "papermill": {
     "duration": 0.054368,
     "end_time": "2021-10-05T19:01:38.581424",
     "exception": false,
     "start_time": "2021-10-05T19:01:38.527056",
     "status": "completed"
    },
    "tags": []
   },
   "outputs": [],
   "source": [
    "gender=gender.rename(columns={'female':'Gender'})"
   ]
  },
  {
   "cell_type": "code",
   "execution_count": 71,
   "id": "5c0fb015",
   "metadata": {
    "execution": {
     "iopub.execute_input": "2021-10-05T19:01:38.681642Z",
     "iopub.status.busy": "2021-10-05T19:01:38.680780Z",
     "iopub.status.idle": "2021-10-05T19:01:38.685119Z",
     "shell.execute_reply": "2021-10-05T19:01:38.685538Z",
     "shell.execute_reply.started": "2021-10-05T18:41:54.219914Z"
    },
    "papermill": {
     "duration": 0.057407,
     "end_time": "2021-10-05T19:01:38.685701",
     "exception": false,
     "start_time": "2021-10-05T19:01:38.628294",
     "status": "completed"
    },
    "tags": []
   },
   "outputs": [],
   "source": [
    "Embarked=pd.get_dummies(test.Embarked)"
   ]
  },
  {
   "cell_type": "code",
   "execution_count": 72,
   "id": "2462786f",
   "metadata": {
    "execution": {
     "iopub.execute_input": "2021-10-05T19:01:38.783471Z",
     "iopub.status.busy": "2021-10-05T19:01:38.782576Z",
     "iopub.status.idle": "2021-10-05T19:01:38.787935Z",
     "shell.execute_reply": "2021-10-05T19:01:38.788368Z",
     "shell.execute_reply.started": "2021-10-05T18:41:54.237048Z"
    },
    "papermill": {
     "duration": 0.055515,
     "end_time": "2021-10-05T19:01:38.788521",
     "exception": false,
     "start_time": "2021-10-05T19:01:38.733006",
     "status": "completed"
    },
    "tags": []
   },
   "outputs": [],
   "source": [
    "test=pd.concat([gender,Embarked,test],axis=1)"
   ]
  },
  {
   "cell_type": "code",
   "execution_count": 73,
   "id": "787bfdb2",
   "metadata": {
    "execution": {
     "iopub.execute_input": "2021-10-05T19:01:38.887059Z",
     "iopub.status.busy": "2021-10-05T19:01:38.886454Z",
     "iopub.status.idle": "2021-10-05T19:01:38.891066Z",
     "shell.execute_reply": "2021-10-05T19:01:38.891477Z",
     "shell.execute_reply.started": "2021-10-05T18:41:54.254729Z"
    },
    "papermill": {
     "duration": 0.055158,
     "end_time": "2021-10-05T19:01:38.891641",
     "exception": false,
     "start_time": "2021-10-05T19:01:38.836483",
     "status": "completed"
    },
    "tags": []
   },
   "outputs": [],
   "source": [
    "test=test.drop(['PassengerId','Name','Sex','Ticket','Cabin','Embarked'],axis=1)"
   ]
  },
  {
   "cell_type": "code",
   "execution_count": 74,
   "id": "7c05655f",
   "metadata": {
    "execution": {
     "iopub.execute_input": "2021-10-05T19:01:38.988790Z",
     "iopub.status.busy": "2021-10-05T19:01:38.988232Z",
     "iopub.status.idle": "2021-10-05T19:01:38.997552Z",
     "shell.execute_reply": "2021-10-05T19:01:38.997108Z",
     "shell.execute_reply.started": "2021-10-05T18:41:54.273982Z"
    },
    "papermill": {
     "duration": 0.059159,
     "end_time": "2021-10-05T19:01:38.997686",
     "exception": false,
     "start_time": "2021-10-05T19:01:38.938527",
     "status": "completed"
    },
    "tags": []
   },
   "outputs": [
    {
     "data": {
      "text/plain": [
       "Gender    0\n",
       "C         0\n",
       "Q         0\n",
       "S         0\n",
       "Pclass    0\n",
       "Age       0\n",
       "SibSp     0\n",
       "Parch     0\n",
       "Fare      1\n",
       "dtype: int64"
      ]
     },
     "execution_count": 74,
     "metadata": {},
     "output_type": "execute_result"
    }
   ],
   "source": [
    "test.isnull().sum()"
   ]
  },
  {
   "cell_type": "code",
   "execution_count": 75,
   "id": "00853df6",
   "metadata": {
    "execution": {
     "iopub.execute_input": "2021-10-05T19:01:39.100245Z",
     "iopub.status.busy": "2021-10-05T19:01:39.099337Z",
     "iopub.status.idle": "2021-10-05T19:01:39.101927Z",
     "shell.execute_reply": "2021-10-05T19:01:39.101386Z",
     "shell.execute_reply.started": "2021-10-05T18:41:54.292258Z"
    },
    "papermill": {
     "duration": 0.056522,
     "end_time": "2021-10-05T19:01:39.102067",
     "exception": false,
     "start_time": "2021-10-05T19:01:39.045545",
     "status": "completed"
    },
    "tags": []
   },
   "outputs": [],
   "source": [
    "test.Fare=test.Fare.fillna(method='ffill')"
   ]
  },
  {
   "cell_type": "code",
   "execution_count": 76,
   "id": "123f9405",
   "metadata": {
    "execution": {
     "iopub.execute_input": "2021-10-05T19:01:39.203310Z",
     "iopub.status.busy": "2021-10-05T19:01:39.201359Z",
     "iopub.status.idle": "2021-10-05T19:01:39.209992Z",
     "shell.execute_reply": "2021-10-05T19:01:39.209527Z",
     "shell.execute_reply.started": "2021-10-05T18:41:54.309976Z"
    },
    "papermill": {
     "duration": 0.059883,
     "end_time": "2021-10-05T19:01:39.210131",
     "exception": false,
     "start_time": "2021-10-05T19:01:39.150248",
     "status": "completed"
    },
    "scrolled": true,
    "tags": []
   },
   "outputs": [
    {
     "data": {
      "text/plain": [
       "Gender    False\n",
       "C         False\n",
       "Q         False\n",
       "S         False\n",
       "Pclass    False\n",
       "Age       False\n",
       "SibSp     False\n",
       "Parch     False\n",
       "Fare      False\n",
       "dtype: bool"
      ]
     },
     "execution_count": 76,
     "metadata": {},
     "output_type": "execute_result"
    }
   ],
   "source": [
    "test.isnull().any()"
   ]
  },
  {
   "cell_type": "code",
   "execution_count": 77,
   "id": "291954a2",
   "metadata": {
    "execution": {
     "iopub.execute_input": "2021-10-05T19:01:39.309728Z",
     "iopub.status.busy": "2021-10-05T19:01:39.309160Z",
     "iopub.status.idle": "2021-10-05T19:01:39.319460Z",
     "shell.execute_reply": "2021-10-05T19:01:39.319933Z",
     "shell.execute_reply.started": "2021-10-05T18:41:54.328275Z"
    },
    "papermill": {
     "duration": 0.062165,
     "end_time": "2021-10-05T19:01:39.320104",
     "exception": false,
     "start_time": "2021-10-05T19:01:39.257939",
     "status": "completed"
    },
    "tags": []
   },
   "outputs": [
    {
     "data": {
      "text/html": [
       "<div>\n",
       "<style scoped>\n",
       "    .dataframe tbody tr th:only-of-type {\n",
       "        vertical-align: middle;\n",
       "    }\n",
       "\n",
       "    .dataframe tbody tr th {\n",
       "        vertical-align: top;\n",
       "    }\n",
       "\n",
       "    .dataframe thead th {\n",
       "        text-align: right;\n",
       "    }\n",
       "</style>\n",
       "<table border=\"1\" class=\"dataframe\">\n",
       "  <thead>\n",
       "    <tr style=\"text-align: right;\">\n",
       "      <th></th>\n",
       "      <th>Gender</th>\n",
       "      <th>C</th>\n",
       "      <th>Q</th>\n",
       "      <th>S</th>\n",
       "      <th>Pclass</th>\n",
       "      <th>Age</th>\n",
       "      <th>SibSp</th>\n",
       "      <th>Parch</th>\n",
       "      <th>Fare</th>\n",
       "    </tr>\n",
       "  </thead>\n",
       "  <tbody>\n",
       "    <tr>\n",
       "      <th>0</th>\n",
       "      <td>0</td>\n",
       "      <td>0</td>\n",
       "      <td>1</td>\n",
       "      <td>0</td>\n",
       "      <td>3</td>\n",
       "      <td>34.5</td>\n",
       "      <td>0</td>\n",
       "      <td>0</td>\n",
       "      <td>7.8292</td>\n",
       "    </tr>\n",
       "    <tr>\n",
       "      <th>1</th>\n",
       "      <td>1</td>\n",
       "      <td>0</td>\n",
       "      <td>0</td>\n",
       "      <td>1</td>\n",
       "      <td>3</td>\n",
       "      <td>47.0</td>\n",
       "      <td>1</td>\n",
       "      <td>0</td>\n",
       "      <td>7.0000</td>\n",
       "    </tr>\n",
       "    <tr>\n",
       "      <th>2</th>\n",
       "      <td>0</td>\n",
       "      <td>0</td>\n",
       "      <td>1</td>\n",
       "      <td>0</td>\n",
       "      <td>2</td>\n",
       "      <td>62.0</td>\n",
       "      <td>0</td>\n",
       "      <td>0</td>\n",
       "      <td>9.6875</td>\n",
       "    </tr>\n",
       "    <tr>\n",
       "      <th>3</th>\n",
       "      <td>0</td>\n",
       "      <td>0</td>\n",
       "      <td>0</td>\n",
       "      <td>1</td>\n",
       "      <td>3</td>\n",
       "      <td>27.0</td>\n",
       "      <td>0</td>\n",
       "      <td>0</td>\n",
       "      <td>8.6625</td>\n",
       "    </tr>\n",
       "    <tr>\n",
       "      <th>4</th>\n",
       "      <td>1</td>\n",
       "      <td>0</td>\n",
       "      <td>0</td>\n",
       "      <td>1</td>\n",
       "      <td>3</td>\n",
       "      <td>22.0</td>\n",
       "      <td>1</td>\n",
       "      <td>1</td>\n",
       "      <td>12.2875</td>\n",
       "    </tr>\n",
       "  </tbody>\n",
       "</table>\n",
       "</div>"
      ],
      "text/plain": [
       "   Gender  C  Q  S  Pclass   Age  SibSp  Parch     Fare\n",
       "0       0  0  1  0       3  34.5      0      0   7.8292\n",
       "1       1  0  0  1       3  47.0      1      0   7.0000\n",
       "2       0  0  1  0       2  62.0      0      0   9.6875\n",
       "3       0  0  0  1       3  27.0      0      0   8.6625\n",
       "4       1  0  0  1       3  22.0      1      1  12.2875"
      ]
     },
     "execution_count": 77,
     "metadata": {},
     "output_type": "execute_result"
    }
   ],
   "source": [
    "test.head()"
   ]
  },
  {
   "cell_type": "code",
   "execution_count": 78,
   "id": "51d7ecad",
   "metadata": {
    "execution": {
     "iopub.execute_input": "2021-10-05T19:01:39.423838Z",
     "iopub.status.busy": "2021-10-05T19:01:39.423194Z",
     "iopub.status.idle": "2021-10-05T19:01:39.427694Z",
     "shell.execute_reply": "2021-10-05T19:01:39.428179Z",
     "shell.execute_reply.started": "2021-10-05T18:41:54.353113Z"
    },
    "papermill": {
     "duration": 0.058032,
     "end_time": "2021-10-05T19:01:39.428346",
     "exception": false,
     "start_time": "2021-10-05T19:01:39.370314",
     "status": "completed"
    },
    "tags": []
   },
   "outputs": [],
   "source": [
    "y_sub=model.predict(test)"
   ]
  },
  {
   "cell_type": "code",
   "execution_count": 79,
   "id": "e8f58fce",
   "metadata": {
    "execution": {
     "iopub.execute_input": "2021-10-05T19:01:39.529400Z",
     "iopub.status.busy": "2021-10-05T19:01:39.528816Z",
     "iopub.status.idle": "2021-10-05T19:01:39.534096Z",
     "shell.execute_reply": "2021-10-05T19:01:39.533551Z",
     "shell.execute_reply.started": "2021-10-05T18:41:54.373968Z"
    },
    "papermill": {
     "duration": 0.057131,
     "end_time": "2021-10-05T19:01:39.534226",
     "exception": false,
     "start_time": "2021-10-05T19:01:39.477095",
     "status": "completed"
    },
    "tags": []
   },
   "outputs": [
    {
     "data": {
      "text/plain": [
       "array([1, 1, 1, 1, 1, 1, 1, 1, 1, 1, 1, 1, 1, 1, 1, 1, 1, 1, 1, 1, 1, 1,\n",
       "       1, 1, 1, 1, 1, 1, 1, 1, 1, 1, 1, 1, 1, 1, 1, 1, 1, 1, 1, 1, 1, 1,\n",
       "       1, 1, 1, 1, 1, 1, 1, 1, 1, 1, 1, 1, 1, 1, 1, 1, 1, 1, 1, 1, 0, 1,\n",
       "       1, 1, 1, 1, 1, 1, 1, 1, 1, 1, 1, 1, 1, 1, 1, 1, 1, 1, 1, 1, 1, 1,\n",
       "       1, 1, 1, 1, 1, 1, 1, 1, 1, 1, 1, 1, 1, 1, 1, 1, 1, 1, 1, 1, 1, 1,\n",
       "       1, 1, 1, 1, 1, 1, 1, 0, 1, 1, 1, 1, 1, 1, 1, 1, 1, 1, 1, 1, 1, 1,\n",
       "       1, 1, 1, 1, 1, 1, 1, 1, 1, 1, 1, 1, 1, 1, 1, 1, 1, 1, 1, 1, 1, 1,\n",
       "       1, 1, 1, 1, 1, 1, 1, 1, 1, 1, 1, 1, 1, 1, 1, 1, 1, 1, 1, 1, 1, 1,\n",
       "       1, 1, 1, 1, 1, 1, 1, 1, 1, 1, 1, 1, 1, 1, 1, 1, 1, 1, 1, 1, 0, 1,\n",
       "       1, 1, 1, 0, 1, 1, 1, 1, 1, 1, 1, 1, 1, 1, 1, 1, 1, 1, 1, 1, 1, 1,\n",
       "       1, 1, 1, 1, 1, 1, 1, 1, 1, 1, 1, 1, 1, 1, 1, 1, 1, 1, 1, 1, 1, 1,\n",
       "       1, 1, 1, 1, 1, 1, 1, 1, 0, 1, 1, 1, 1, 1, 1, 1, 1, 1, 1, 1, 1, 1,\n",
       "       1, 1, 1, 1, 1, 1, 1, 1, 1, 1, 1, 1, 1, 1, 1, 1, 1, 1, 1, 1, 1, 1,\n",
       "       1, 1, 1, 1, 1, 1, 1, 1, 1, 1, 0, 1, 1, 1, 1, 1, 1, 1, 1, 1, 1, 1,\n",
       "       1, 1, 1, 1, 1, 1, 1, 1, 1, 1, 1, 1, 1, 1, 1, 1, 1, 1, 1, 1, 1, 1,\n",
       "       1, 1, 1, 1, 1, 1, 1, 1, 1, 1, 1, 1, 1, 1, 1, 1, 1, 1, 1, 1, 1, 1,\n",
       "       1, 1, 0, 1, 1, 1, 1, 1, 1, 1, 1, 1, 1, 1, 1, 1, 1, 1, 1, 1, 1, 1,\n",
       "       1, 1, 1, 1, 1, 1, 1, 1, 1, 1, 1, 1, 1, 1, 1, 1, 1, 1, 1, 1, 1, 1,\n",
       "       1, 1, 1, 1, 1, 1, 1, 1, 1, 1, 1, 1, 1, 1, 1, 1, 1, 1, 1, 1, 1, 1])"
      ]
     },
     "execution_count": 79,
     "metadata": {},
     "output_type": "execute_result"
    }
   ],
   "source": [
    "y_sub"
   ]
  },
  {
   "cell_type": "code",
   "execution_count": 80,
   "id": "ddecf402",
   "metadata": {
    "execution": {
     "iopub.execute_input": "2021-10-05T19:01:39.637080Z",
     "iopub.status.busy": "2021-10-05T19:01:39.636390Z",
     "iopub.status.idle": "2021-10-05T19:01:39.637990Z",
     "shell.execute_reply": "2021-10-05T19:01:39.638466Z",
     "shell.execute_reply.started": "2021-10-05T18:51:25.050727Z"
    },
    "papermill": {
     "duration": 0.055362,
     "end_time": "2021-10-05T19:01:39.638637",
     "exception": false,
     "start_time": "2021-10-05T19:01:39.583275",
     "status": "completed"
    },
    "tags": []
   },
   "outputs": [],
   "source": [
    "y_sub=pd.Series(y_sub,name='Survived')"
   ]
  },
  {
   "cell_type": "code",
   "execution_count": 81,
   "id": "00d496e7",
   "metadata": {},
   "outputs": [
    {
     "data": {
      "text/plain": [
       "0      1\n",
       "1      1\n",
       "2      1\n",
       "3      1\n",
       "4      1\n",
       "      ..\n",
       "413    1\n",
       "414    1\n",
       "415    1\n",
       "416    1\n",
       "417    1\n",
       "Name: Survived, Length: 418, dtype: int64"
      ]
     },
     "execution_count": 81,
     "metadata": {},
     "output_type": "execute_result"
    }
   ],
   "source": [
    "y_sub"
   ]
  },
  {
   "cell_type": "code",
   "execution_count": 82,
   "id": "cd016466",
   "metadata": {
    "execution": {
     "iopub.execute_input": "2021-10-05T19:01:39.741291Z",
     "iopub.status.busy": "2021-10-05T19:01:39.738215Z",
     "iopub.status.idle": "2021-10-05T19:01:39.743691Z",
     "shell.execute_reply": "2021-10-05T19:01:39.744144Z",
     "shell.execute_reply.started": "2021-10-05T18:51:26.935301Z"
    },
    "papermill": {
     "duration": 0.057174,
     "end_time": "2021-10-05T19:01:39.744324",
     "exception": false,
     "start_time": "2021-10-05T19:01:39.687150",
     "status": "completed"
    },
    "tags": []
   },
   "outputs": [],
   "source": [
    "sub=pd.concat([final_test.PassengerId,y_sub],axis=1)"
   ]
  },
  {
   "cell_type": "code",
   "execution_count": 83,
   "id": "c64097d5",
   "metadata": {},
   "outputs": [
    {
     "data": {
      "text/html": [
       "<div>\n",
       "<style scoped>\n",
       "    .dataframe tbody tr th:only-of-type {\n",
       "        vertical-align: middle;\n",
       "    }\n",
       "\n",
       "    .dataframe tbody tr th {\n",
       "        vertical-align: top;\n",
       "    }\n",
       "\n",
       "    .dataframe thead th {\n",
       "        text-align: right;\n",
       "    }\n",
       "</style>\n",
       "<table border=\"1\" class=\"dataframe\">\n",
       "  <thead>\n",
       "    <tr style=\"text-align: right;\">\n",
       "      <th></th>\n",
       "      <th>PassengerId</th>\n",
       "      <th>Survived</th>\n",
       "    </tr>\n",
       "  </thead>\n",
       "  <tbody>\n",
       "    <tr>\n",
       "      <th>0</th>\n",
       "      <td>892</td>\n",
       "      <td>1</td>\n",
       "    </tr>\n",
       "    <tr>\n",
       "      <th>1</th>\n",
       "      <td>893</td>\n",
       "      <td>1</td>\n",
       "    </tr>\n",
       "    <tr>\n",
       "      <th>2</th>\n",
       "      <td>894</td>\n",
       "      <td>1</td>\n",
       "    </tr>\n",
       "    <tr>\n",
       "      <th>3</th>\n",
       "      <td>895</td>\n",
       "      <td>1</td>\n",
       "    </tr>\n",
       "    <tr>\n",
       "      <th>4</th>\n",
       "      <td>896</td>\n",
       "      <td>1</td>\n",
       "    </tr>\n",
       "  </tbody>\n",
       "</table>\n",
       "</div>"
      ],
      "text/plain": [
       "   PassengerId  Survived\n",
       "0          892         1\n",
       "1          893         1\n",
       "2          894         1\n",
       "3          895         1\n",
       "4          896         1"
      ]
     },
     "execution_count": 83,
     "metadata": {},
     "output_type": "execute_result"
    }
   ],
   "source": [
    "sub.head()"
   ]
  }
 ],
 "metadata": {
  "kernelspec": {
   "display_name": "Python 3",
   "language": "python",
   "name": "python3"
  },
  "language_info": {
   "codemirror_mode": {
    "name": "ipython",
    "version": 3
   },
   "file_extension": ".py",
   "mimetype": "text/x-python",
   "name": "python",
   "nbconvert_exporter": "python",
   "pygments_lexer": "ipython3",
   "version": "3.8.8"
  },
  "papermill": {
   "default_parameters": {},
   "duration": 16.717597,
   "end_time": "2021-10-05T19:01:41.278468",
   "environment_variables": {},
   "exception": null,
   "input_path": "__notebook__.ipynb",
   "output_path": "__notebook__.ipynb",
   "parameters": {},
   "start_time": "2021-10-05T19:01:24.560871",
   "version": "2.3.3"
  }
 },
 "nbformat": 4,
 "nbformat_minor": 5
}
